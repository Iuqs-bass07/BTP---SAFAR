{
  "cells": [
    {
      "cell_type": "code",
      "execution_count": null,
      "metadata": {
        "id": "5bIetPI-Z7ie"
      },
      "outputs": [],
      "source": [
        "import numpy as np\n",
        "import pandas as pd"
      ]
    },
    {
      "cell_type": "code",
      "execution_count": null,
      "metadata": {
        "id": "GLiSwLIqZ8Dl"
      },
      "outputs": [],
      "source": [
        "df=pd.read_csv(\"/content/Trajectory without outliers modified.csv\")"
      ]
    },
    {
      "cell_type": "code",
      "execution_count": null,
      "metadata": {
        "colab": {
          "base_uri": "https://localhost:8080/",
          "height": 423
        },
        "id": "lEd_VxytZ8GG",
        "outputId": "21653601-cad5-4cee-b014-713350073326"
      },
      "outputs": [
        {
          "output_type": "execute_result",
          "data": {
            "text/plain": [
              "       ID   Category                     Time  Position_X  Position_Y  \\\n",
              "0       2  motorbike  1900-01-01 10:03:24.468      1238.0       604.0   \n",
              "1       2  motorbike  1900-01-01 10:03:27.349      1238.0       603.5   \n",
              "2       2  motorbike  1900-01-01 10:03:30.143      1236.5       603.5   \n",
              "3       2  motorbike  1900-01-01 10:03:32.918      1236.0       605.0   \n",
              "4       2  motorbike  1900-01-01 10:03:36.634      1235.0       604.0   \n",
              "...   ...        ...                      ...         ...         ...   \n",
              "7081  879     person  1900-01-01 10:18:15.824       323.0       449.5   \n",
              "7082  879     person  1900-01-01 10:18:19.932       325.0       457.5   \n",
              "7083  879     person  1900-01-01 10:18:22.769       325.5       465.5   \n",
              "7084  880     person  1900-01-01 10:18:19.933       207.5       616.0   \n",
              "7085  880     person  1900-01-01 10:18:22.769       234.0       621.0   \n",
              "\n",
              "         Speed  \n",
              "0     0.166667  \n",
              "1     0.500000  \n",
              "2     0.790569  \n",
              "3     0.353553  \n",
              "4     1.067187  \n",
              "...        ...  \n",
              "7081  2.061553  \n",
              "7082  2.671870  \n",
              "7083  2.368778  \n",
              "7084  8.989191  \n",
              "7085  7.673910  \n",
              "\n",
              "[7086 rows x 6 columns]"
            ],
            "text/html": [
              "\n",
              "  <div id=\"df-84878fc0-6335-46d0-abda-89b65b5a4d64\" class=\"colab-df-container\">\n",
              "    <div>\n",
              "<style scoped>\n",
              "    .dataframe tbody tr th:only-of-type {\n",
              "        vertical-align: middle;\n",
              "    }\n",
              "\n",
              "    .dataframe tbody tr th {\n",
              "        vertical-align: top;\n",
              "    }\n",
              "\n",
              "    .dataframe thead th {\n",
              "        text-align: right;\n",
              "    }\n",
              "</style>\n",
              "<table border=\"1\" class=\"dataframe\">\n",
              "  <thead>\n",
              "    <tr style=\"text-align: right;\">\n",
              "      <th></th>\n",
              "      <th>ID</th>\n",
              "      <th>Category</th>\n",
              "      <th>Time</th>\n",
              "      <th>Position_X</th>\n",
              "      <th>Position_Y</th>\n",
              "      <th>Speed</th>\n",
              "    </tr>\n",
              "  </thead>\n",
              "  <tbody>\n",
              "    <tr>\n",
              "      <th>0</th>\n",
              "      <td>2</td>\n",
              "      <td>motorbike</td>\n",
              "      <td>1900-01-01 10:03:24.468</td>\n",
              "      <td>1238.0</td>\n",
              "      <td>604.0</td>\n",
              "      <td>0.166667</td>\n",
              "    </tr>\n",
              "    <tr>\n",
              "      <th>1</th>\n",
              "      <td>2</td>\n",
              "      <td>motorbike</td>\n",
              "      <td>1900-01-01 10:03:27.349</td>\n",
              "      <td>1238.0</td>\n",
              "      <td>603.5</td>\n",
              "      <td>0.500000</td>\n",
              "    </tr>\n",
              "    <tr>\n",
              "      <th>2</th>\n",
              "      <td>2</td>\n",
              "      <td>motorbike</td>\n",
              "      <td>1900-01-01 10:03:30.143</td>\n",
              "      <td>1236.5</td>\n",
              "      <td>603.5</td>\n",
              "      <td>0.790569</td>\n",
              "    </tr>\n",
              "    <tr>\n",
              "      <th>3</th>\n",
              "      <td>2</td>\n",
              "      <td>motorbike</td>\n",
              "      <td>1900-01-01 10:03:32.918</td>\n",
              "      <td>1236.0</td>\n",
              "      <td>605.0</td>\n",
              "      <td>0.353553</td>\n",
              "    </tr>\n",
              "    <tr>\n",
              "      <th>4</th>\n",
              "      <td>2</td>\n",
              "      <td>motorbike</td>\n",
              "      <td>1900-01-01 10:03:36.634</td>\n",
              "      <td>1235.0</td>\n",
              "      <td>604.0</td>\n",
              "      <td>1.067187</td>\n",
              "    </tr>\n",
              "    <tr>\n",
              "      <th>...</th>\n",
              "      <td>...</td>\n",
              "      <td>...</td>\n",
              "      <td>...</td>\n",
              "      <td>...</td>\n",
              "      <td>...</td>\n",
              "      <td>...</td>\n",
              "    </tr>\n",
              "    <tr>\n",
              "      <th>7081</th>\n",
              "      <td>879</td>\n",
              "      <td>person</td>\n",
              "      <td>1900-01-01 10:18:15.824</td>\n",
              "      <td>323.0</td>\n",
              "      <td>449.5</td>\n",
              "      <td>2.061553</td>\n",
              "    </tr>\n",
              "    <tr>\n",
              "      <th>7082</th>\n",
              "      <td>879</td>\n",
              "      <td>person</td>\n",
              "      <td>1900-01-01 10:18:19.932</td>\n",
              "      <td>325.0</td>\n",
              "      <td>457.5</td>\n",
              "      <td>2.671870</td>\n",
              "    </tr>\n",
              "    <tr>\n",
              "      <th>7083</th>\n",
              "      <td>879</td>\n",
              "      <td>person</td>\n",
              "      <td>1900-01-01 10:18:22.769</td>\n",
              "      <td>325.5</td>\n",
              "      <td>465.5</td>\n",
              "      <td>2.368778</td>\n",
              "    </tr>\n",
              "    <tr>\n",
              "      <th>7084</th>\n",
              "      <td>880</td>\n",
              "      <td>person</td>\n",
              "      <td>1900-01-01 10:18:19.933</td>\n",
              "      <td>207.5</td>\n",
              "      <td>616.0</td>\n",
              "      <td>8.989191</td>\n",
              "    </tr>\n",
              "    <tr>\n",
              "      <th>7085</th>\n",
              "      <td>880</td>\n",
              "      <td>person</td>\n",
              "      <td>1900-01-01 10:18:22.769</td>\n",
              "      <td>234.0</td>\n",
              "      <td>621.0</td>\n",
              "      <td>7.673910</td>\n",
              "    </tr>\n",
              "  </tbody>\n",
              "</table>\n",
              "<p>7086 rows × 6 columns</p>\n",
              "</div>\n",
              "    <div class=\"colab-df-buttons\">\n",
              "\n",
              "  <div class=\"colab-df-container\">\n",
              "    <button class=\"colab-df-convert\" onclick=\"convertToInteractive('df-84878fc0-6335-46d0-abda-89b65b5a4d64')\"\n",
              "            title=\"Convert this dataframe to an interactive table.\"\n",
              "            style=\"display:none;\">\n",
              "\n",
              "  <svg xmlns=\"http://www.w3.org/2000/svg\" height=\"24px\" viewBox=\"0 -960 960 960\">\n",
              "    <path d=\"M120-120v-720h720v720H120Zm60-500h600v-160H180v160Zm220 220h160v-160H400v160Zm0 220h160v-160H400v160ZM180-400h160v-160H180v160Zm440 0h160v-160H620v160ZM180-180h160v-160H180v160Zm440 0h160v-160H620v160Z\"/>\n",
              "  </svg>\n",
              "    </button>\n",
              "\n",
              "  <style>\n",
              "    .colab-df-container {\n",
              "      display:flex;\n",
              "      gap: 12px;\n",
              "    }\n",
              "\n",
              "    .colab-df-convert {\n",
              "      background-color: #E8F0FE;\n",
              "      border: none;\n",
              "      border-radius: 50%;\n",
              "      cursor: pointer;\n",
              "      display: none;\n",
              "      fill: #1967D2;\n",
              "      height: 32px;\n",
              "      padding: 0 0 0 0;\n",
              "      width: 32px;\n",
              "    }\n",
              "\n",
              "    .colab-df-convert:hover {\n",
              "      background-color: #E2EBFA;\n",
              "      box-shadow: 0px 1px 2px rgba(60, 64, 67, 0.3), 0px 1px 3px 1px rgba(60, 64, 67, 0.15);\n",
              "      fill: #174EA6;\n",
              "    }\n",
              "\n",
              "    .colab-df-buttons div {\n",
              "      margin-bottom: 4px;\n",
              "    }\n",
              "\n",
              "    [theme=dark] .colab-df-convert {\n",
              "      background-color: #3B4455;\n",
              "      fill: #D2E3FC;\n",
              "    }\n",
              "\n",
              "    [theme=dark] .colab-df-convert:hover {\n",
              "      background-color: #434B5C;\n",
              "      box-shadow: 0px 1px 3px 1px rgba(0, 0, 0, 0.15);\n",
              "      filter: drop-shadow(0px 1px 2px rgba(0, 0, 0, 0.3));\n",
              "      fill: #FFFFFF;\n",
              "    }\n",
              "  </style>\n",
              "\n",
              "    <script>\n",
              "      const buttonEl =\n",
              "        document.querySelector('#df-84878fc0-6335-46d0-abda-89b65b5a4d64 button.colab-df-convert');\n",
              "      buttonEl.style.display =\n",
              "        google.colab.kernel.accessAllowed ? 'block' : 'none';\n",
              "\n",
              "      async function convertToInteractive(key) {\n",
              "        const element = document.querySelector('#df-84878fc0-6335-46d0-abda-89b65b5a4d64');\n",
              "        const dataTable =\n",
              "          await google.colab.kernel.invokeFunction('convertToInteractive',\n",
              "                                                    [key], {});\n",
              "        if (!dataTable) return;\n",
              "\n",
              "        const docLinkHtml = 'Like what you see? Visit the ' +\n",
              "          '<a target=\"_blank\" href=https://colab.research.google.com/notebooks/data_table.ipynb>data table notebook</a>'\n",
              "          + ' to learn more about interactive tables.';\n",
              "        element.innerHTML = '';\n",
              "        dataTable['output_type'] = 'display_data';\n",
              "        await google.colab.output.renderOutput(dataTable, element);\n",
              "        const docLink = document.createElement('div');\n",
              "        docLink.innerHTML = docLinkHtml;\n",
              "        element.appendChild(docLink);\n",
              "      }\n",
              "    </script>\n",
              "  </div>\n",
              "\n",
              "\n",
              "<div id=\"df-eaff1037-a629-49d6-a9be-665d50a44041\">\n",
              "  <button class=\"colab-df-quickchart\" onclick=\"quickchart('df-eaff1037-a629-49d6-a9be-665d50a44041')\"\n",
              "            title=\"Suggest charts\"\n",
              "            style=\"display:none;\">\n",
              "\n",
              "<svg xmlns=\"http://www.w3.org/2000/svg\" height=\"24px\"viewBox=\"0 0 24 24\"\n",
              "     width=\"24px\">\n",
              "    <g>\n",
              "        <path d=\"M19 3H5c-1.1 0-2 .9-2 2v14c0 1.1.9 2 2 2h14c1.1 0 2-.9 2-2V5c0-1.1-.9-2-2-2zM9 17H7v-7h2v7zm4 0h-2V7h2v10zm4 0h-2v-4h2v4z\"/>\n",
              "    </g>\n",
              "</svg>\n",
              "  </button>\n",
              "\n",
              "<style>\n",
              "  .colab-df-quickchart {\n",
              "      --bg-color: #E8F0FE;\n",
              "      --fill-color: #1967D2;\n",
              "      --hover-bg-color: #E2EBFA;\n",
              "      --hover-fill-color: #174EA6;\n",
              "      --disabled-fill-color: #AAA;\n",
              "      --disabled-bg-color: #DDD;\n",
              "  }\n",
              "\n",
              "  [theme=dark] .colab-df-quickchart {\n",
              "      --bg-color: #3B4455;\n",
              "      --fill-color: #D2E3FC;\n",
              "      --hover-bg-color: #434B5C;\n",
              "      --hover-fill-color: #FFFFFF;\n",
              "      --disabled-bg-color: #3B4455;\n",
              "      --disabled-fill-color: #666;\n",
              "  }\n",
              "\n",
              "  .colab-df-quickchart {\n",
              "    background-color: var(--bg-color);\n",
              "    border: none;\n",
              "    border-radius: 50%;\n",
              "    cursor: pointer;\n",
              "    display: none;\n",
              "    fill: var(--fill-color);\n",
              "    height: 32px;\n",
              "    padding: 0;\n",
              "    width: 32px;\n",
              "  }\n",
              "\n",
              "  .colab-df-quickchart:hover {\n",
              "    background-color: var(--hover-bg-color);\n",
              "    box-shadow: 0 1px 2px rgba(60, 64, 67, 0.3), 0 1px 3px 1px rgba(60, 64, 67, 0.15);\n",
              "    fill: var(--button-hover-fill-color);\n",
              "  }\n",
              "\n",
              "  .colab-df-quickchart-complete:disabled,\n",
              "  .colab-df-quickchart-complete:disabled:hover {\n",
              "    background-color: var(--disabled-bg-color);\n",
              "    fill: var(--disabled-fill-color);\n",
              "    box-shadow: none;\n",
              "  }\n",
              "\n",
              "  .colab-df-spinner {\n",
              "    border: 2px solid var(--fill-color);\n",
              "    border-color: transparent;\n",
              "    border-bottom-color: var(--fill-color);\n",
              "    animation:\n",
              "      spin 1s steps(1) infinite;\n",
              "  }\n",
              "\n",
              "  @keyframes spin {\n",
              "    0% {\n",
              "      border-color: transparent;\n",
              "      border-bottom-color: var(--fill-color);\n",
              "      border-left-color: var(--fill-color);\n",
              "    }\n",
              "    20% {\n",
              "      border-color: transparent;\n",
              "      border-left-color: var(--fill-color);\n",
              "      border-top-color: var(--fill-color);\n",
              "    }\n",
              "    30% {\n",
              "      border-color: transparent;\n",
              "      border-left-color: var(--fill-color);\n",
              "      border-top-color: var(--fill-color);\n",
              "      border-right-color: var(--fill-color);\n",
              "    }\n",
              "    40% {\n",
              "      border-color: transparent;\n",
              "      border-right-color: var(--fill-color);\n",
              "      border-top-color: var(--fill-color);\n",
              "    }\n",
              "    60% {\n",
              "      border-color: transparent;\n",
              "      border-right-color: var(--fill-color);\n",
              "    }\n",
              "    80% {\n",
              "      border-color: transparent;\n",
              "      border-right-color: var(--fill-color);\n",
              "      border-bottom-color: var(--fill-color);\n",
              "    }\n",
              "    90% {\n",
              "      border-color: transparent;\n",
              "      border-bottom-color: var(--fill-color);\n",
              "    }\n",
              "  }\n",
              "</style>\n",
              "\n",
              "  <script>\n",
              "    async function quickchart(key) {\n",
              "      const quickchartButtonEl =\n",
              "        document.querySelector('#' + key + ' button');\n",
              "      quickchartButtonEl.disabled = true;  // To prevent multiple clicks.\n",
              "      quickchartButtonEl.classList.add('colab-df-spinner');\n",
              "      try {\n",
              "        const charts = await google.colab.kernel.invokeFunction(\n",
              "            'suggestCharts', [key], {});\n",
              "      } catch (error) {\n",
              "        console.error('Error during call to suggestCharts:', error);\n",
              "      }\n",
              "      quickchartButtonEl.classList.remove('colab-df-spinner');\n",
              "      quickchartButtonEl.classList.add('colab-df-quickchart-complete');\n",
              "    }\n",
              "    (() => {\n",
              "      let quickchartButtonEl =\n",
              "        document.querySelector('#df-eaff1037-a629-49d6-a9be-665d50a44041 button');\n",
              "      quickchartButtonEl.style.display =\n",
              "        google.colab.kernel.accessAllowed ? 'block' : 'none';\n",
              "    })();\n",
              "  </script>\n",
              "</div>\n",
              "\n",
              "  <div id=\"id_4316612a-268e-4a59-be3f-8d1432e79a08\">\n",
              "    <style>\n",
              "      .colab-df-generate {\n",
              "        background-color: #E8F0FE;\n",
              "        border: none;\n",
              "        border-radius: 50%;\n",
              "        cursor: pointer;\n",
              "        display: none;\n",
              "        fill: #1967D2;\n",
              "        height: 32px;\n",
              "        padding: 0 0 0 0;\n",
              "        width: 32px;\n",
              "      }\n",
              "\n",
              "      .colab-df-generate:hover {\n",
              "        background-color: #E2EBFA;\n",
              "        box-shadow: 0px 1px 2px rgba(60, 64, 67, 0.3), 0px 1px 3px 1px rgba(60, 64, 67, 0.15);\n",
              "        fill: #174EA6;\n",
              "      }\n",
              "\n",
              "      [theme=dark] .colab-df-generate {\n",
              "        background-color: #3B4455;\n",
              "        fill: #D2E3FC;\n",
              "      }\n",
              "\n",
              "      [theme=dark] .colab-df-generate:hover {\n",
              "        background-color: #434B5C;\n",
              "        box-shadow: 0px 1px 3px 1px rgba(0, 0, 0, 0.15);\n",
              "        filter: drop-shadow(0px 1px 2px rgba(0, 0, 0, 0.3));\n",
              "        fill: #FFFFFF;\n",
              "      }\n",
              "    </style>\n",
              "    <button class=\"colab-df-generate\" onclick=\"generateWithVariable('df')\"\n",
              "            title=\"Generate code using this dataframe.\"\n",
              "            style=\"display:none;\">\n",
              "\n",
              "  <svg xmlns=\"http://www.w3.org/2000/svg\" height=\"24px\"viewBox=\"0 0 24 24\"\n",
              "       width=\"24px\">\n",
              "    <path d=\"M7,19H8.4L18.45,9,17,7.55,7,17.6ZM5,21V16.75L18.45,3.32a2,2,0,0,1,2.83,0l1.4,1.43a1.91,1.91,0,0,1,.58,1.4,1.91,1.91,0,0,1-.58,1.4L9.25,21ZM18.45,9,17,7.55Zm-12,3A5.31,5.31,0,0,0,4.9,8.1,5.31,5.31,0,0,0,1,6.5,5.31,5.31,0,0,0,4.9,4.9,5.31,5.31,0,0,0,6.5,1,5.31,5.31,0,0,0,8.1,4.9,5.31,5.31,0,0,0,12,6.5,5.46,5.46,0,0,0,6.5,12Z\"/>\n",
              "  </svg>\n",
              "    </button>\n",
              "    <script>\n",
              "      (() => {\n",
              "      const buttonEl =\n",
              "        document.querySelector('#id_4316612a-268e-4a59-be3f-8d1432e79a08 button.colab-df-generate');\n",
              "      buttonEl.style.display =\n",
              "        google.colab.kernel.accessAllowed ? 'block' : 'none';\n",
              "\n",
              "      buttonEl.onclick = () => {\n",
              "        google.colab.notebook.generateWithVariable('df');\n",
              "      }\n",
              "      })();\n",
              "    </script>\n",
              "  </div>\n",
              "\n",
              "    </div>\n",
              "  </div>\n"
            ],
            "application/vnd.google.colaboratory.intrinsic+json": {
              "type": "dataframe",
              "variable_name": "df",
              "summary": "{\n  \"name\": \"df\",\n  \"rows\": 7086,\n  \"fields\": [\n    {\n      \"column\": \"ID\",\n      \"properties\": {\n        \"dtype\": \"number\",\n        \"std\": 206,\n        \"min\": 2,\n        \"max\": 880,\n        \"num_unique_values\": 257,\n        \"samples\": [\n          511,\n          578,\n          209\n        ],\n        \"semantic_type\": \"\",\n        \"description\": \"\"\n      }\n    },\n    {\n      \"column\": \"Category\",\n      \"properties\": {\n        \"dtype\": \"category\",\n        \"num_unique_values\": 5,\n        \"samples\": [\n          \"person\",\n          \"car\",\n          \"truck\"\n        ],\n        \"semantic_type\": \"\",\n        \"description\": \"\"\n      }\n    },\n    {\n      \"column\": \"Time\",\n      \"properties\": {\n        \"dtype\": \"object\",\n        \"num_unique_values\": 1657,\n        \"samples\": [\n          \"1900-01-01 10:15:33.825\",\n          \"1900-01-01 10:01:21.905\",\n          \"1900-01-01 10:00:29.466\"\n        ],\n        \"semantic_type\": \"\",\n        \"description\": \"\"\n      }\n    },\n    {\n      \"column\": \"Position_X\",\n      \"properties\": {\n        \"dtype\": \"number\",\n        \"std\": 444.20452754133186,\n        \"min\": 9.5,\n        \"max\": 1865.5,\n        \"num_unique_values\": 2768,\n        \"samples\": [\n          856.5,\n          961.5,\n          894.0\n        ],\n        \"semantic_type\": \"\",\n        \"description\": \"\"\n      }\n    },\n    {\n      \"column\": \"Position_Y\",\n      \"properties\": {\n        \"dtype\": \"number\",\n        \"std\": 155.1868304132602,\n        \"min\": 265.0,\n        \"max\": 1057.5,\n        \"num_unique_values\": 1253,\n        \"samples\": [\n          828.5,\n          484.0,\n          949.0\n        ],\n        \"semantic_type\": \"\",\n        \"description\": \"\"\n      }\n    },\n    {\n      \"column\": \"Speed\",\n      \"properties\": {\n        \"dtype\": \"number\",\n        \"std\": 2.3756807335717545,\n        \"min\": 0.0,\n        \"max\": 34.51006294466071,\n        \"num_unique_values\": 1973,\n        \"samples\": [\n          5.350233639758174,\n          4.833333333333333,\n          4.395417044236862\n        ],\n        \"semantic_type\": \"\",\n        \"description\": \"\"\n      }\n    }\n  ]\n}"
            }
          },
          "metadata": {},
          "execution_count": 11
        }
      ],
      "source": [
        "df"
      ]
    },
    {
      "cell_type": "code",
      "execution_count": null,
      "metadata": {
        "id": "pa5wQrM-Z8Is"
      },
      "outputs": [],
      "source": [
        "import pandas as pd\n",
        "from scipy.spatial import distance"
      ]
    },
    {
      "cell_type": "code",
      "execution_count": null,
      "metadata": {
        "colab": {
          "base_uri": "https://localhost:8080/",
          "height": 339
        },
        "id": "PS6qgnTSZ8K2",
        "outputId": "7f87cee6-a857-4c6b-ae3b-6aacac5c9698"
      },
      "outputs": [
        {
          "ename": "ValueError",
          "evalue": "Invalid time format",
          "output_type": "error",
          "traceback": [
            "\u001b[0;31m---------------------------------------------------------------------------\u001b[0m",
            "\u001b[0;31mValueError\u001b[0m                                Traceback (most recent call last)",
            "\u001b[0;32m<ipython-input-7-b3666836606b>\u001b[0m in \u001b[0;36m<cell line: 9>\u001b[0;34m()\u001b[0m\n\u001b[1;32m      7\u001b[0m     \u001b[0;32mraise\u001b[0m \u001b[0mValueError\u001b[0m\u001b[0;34m(\u001b[0m\u001b[0;34m\"Invalid time format\"\u001b[0m\u001b[0;34m)\u001b[0m\u001b[0;34m\u001b[0m\u001b[0;34m\u001b[0m\u001b[0m\n\u001b[1;32m      8\u001b[0m \u001b[0;34m\u001b[0m\u001b[0m\n\u001b[0;32m----> 9\u001b[0;31m \u001b[0mdf\u001b[0m\u001b[0;34m[\u001b[0m\u001b[0;34m'Time'\u001b[0m\u001b[0;34m]\u001b[0m \u001b[0;34m=\u001b[0m \u001b[0mdf\u001b[0m\u001b[0;34m[\u001b[0m\u001b[0;34m'Time'\u001b[0m\u001b[0;34m]\u001b[0m\u001b[0;34m.\u001b[0m\u001b[0mapply\u001b[0m\u001b[0;34m(\u001b[0m\u001b[0mconvert_time_format\u001b[0m\u001b[0;34m)\u001b[0m\u001b[0;34m\u001b[0m\u001b[0;34m\u001b[0m\u001b[0m\n\u001b[0m\u001b[1;32m     10\u001b[0m \u001b[0mdf\u001b[0m\u001b[0;34m[\u001b[0m\u001b[0;34m'Time'\u001b[0m\u001b[0;34m]\u001b[0m \u001b[0;34m=\u001b[0m \u001b[0mpd\u001b[0m\u001b[0;34m.\u001b[0m\u001b[0mto_timedelta\u001b[0m\u001b[0;34m(\u001b[0m\u001b[0mdf\u001b[0m\u001b[0;34m[\u001b[0m\u001b[0;34m'Time'\u001b[0m\u001b[0;34m]\u001b[0m\u001b[0;34m)\u001b[0m\u001b[0;34m.\u001b[0m\u001b[0mdt\u001b[0m\u001b[0;34m.\u001b[0m\u001b[0mtotal_seconds\u001b[0m\u001b[0;34m(\u001b[0m\u001b[0;34m)\u001b[0m\u001b[0;34m\u001b[0m\u001b[0;34m\u001b[0m\u001b[0m\n",
            "\u001b[0;32m/usr/local/lib/python3.10/dist-packages/pandas/core/series.py\u001b[0m in \u001b[0;36mapply\u001b[0;34m(self, func, convert_dtype, args, **kwargs)\u001b[0m\n\u001b[1;32m   4628\u001b[0m         \u001b[0mdtype\u001b[0m\u001b[0;34m:\u001b[0m \u001b[0mfloat64\u001b[0m\u001b[0;34m\u001b[0m\u001b[0;34m\u001b[0m\u001b[0m\n\u001b[1;32m   4629\u001b[0m         \"\"\"\n\u001b[0;32m-> 4630\u001b[0;31m         \u001b[0;32mreturn\u001b[0m \u001b[0mSeriesApply\u001b[0m\u001b[0;34m(\u001b[0m\u001b[0mself\u001b[0m\u001b[0;34m,\u001b[0m \u001b[0mfunc\u001b[0m\u001b[0;34m,\u001b[0m \u001b[0mconvert_dtype\u001b[0m\u001b[0;34m,\u001b[0m \u001b[0margs\u001b[0m\u001b[0;34m,\u001b[0m \u001b[0mkwargs\u001b[0m\u001b[0;34m)\u001b[0m\u001b[0;34m.\u001b[0m\u001b[0mapply\u001b[0m\u001b[0;34m(\u001b[0m\u001b[0;34m)\u001b[0m\u001b[0;34m\u001b[0m\u001b[0;34m\u001b[0m\u001b[0m\n\u001b[0m\u001b[1;32m   4631\u001b[0m \u001b[0;34m\u001b[0m\u001b[0m\n\u001b[1;32m   4632\u001b[0m     def _reduce(\n",
            "\u001b[0;32m/usr/local/lib/python3.10/dist-packages/pandas/core/apply.py\u001b[0m in \u001b[0;36mapply\u001b[0;34m(self)\u001b[0m\n\u001b[1;32m   1023\u001b[0m \u001b[0;34m\u001b[0m\u001b[0m\n\u001b[1;32m   1024\u001b[0m         \u001b[0;31m# self.f is Callable\u001b[0m\u001b[0;34m\u001b[0m\u001b[0;34m\u001b[0m\u001b[0m\n\u001b[0;32m-> 1025\u001b[0;31m         \u001b[0;32mreturn\u001b[0m \u001b[0mself\u001b[0m\u001b[0;34m.\u001b[0m\u001b[0mapply_standard\u001b[0m\u001b[0;34m(\u001b[0m\u001b[0;34m)\u001b[0m\u001b[0;34m\u001b[0m\u001b[0;34m\u001b[0m\u001b[0m\n\u001b[0m\u001b[1;32m   1026\u001b[0m \u001b[0;34m\u001b[0m\u001b[0m\n\u001b[1;32m   1027\u001b[0m     \u001b[0;32mdef\u001b[0m \u001b[0magg\u001b[0m\u001b[0;34m(\u001b[0m\u001b[0mself\u001b[0m\u001b[0;34m)\u001b[0m\u001b[0;34m:\u001b[0m\u001b[0;34m\u001b[0m\u001b[0;34m\u001b[0m\u001b[0m\n",
            "\u001b[0;32m/usr/local/lib/python3.10/dist-packages/pandas/core/apply.py\u001b[0m in \u001b[0;36mapply_standard\u001b[0;34m(self)\u001b[0m\n\u001b[1;32m   1074\u001b[0m             \u001b[0;32melse\u001b[0m\u001b[0;34m:\u001b[0m\u001b[0;34m\u001b[0m\u001b[0;34m\u001b[0m\u001b[0m\n\u001b[1;32m   1075\u001b[0m                 \u001b[0mvalues\u001b[0m \u001b[0;34m=\u001b[0m \u001b[0mobj\u001b[0m\u001b[0;34m.\u001b[0m\u001b[0mastype\u001b[0m\u001b[0;34m(\u001b[0m\u001b[0mobject\u001b[0m\u001b[0;34m)\u001b[0m\u001b[0;34m.\u001b[0m\u001b[0m_values\u001b[0m\u001b[0;34m\u001b[0m\u001b[0;34m\u001b[0m\u001b[0m\n\u001b[0;32m-> 1076\u001b[0;31m                 mapped = lib.map_infer(\n\u001b[0m\u001b[1;32m   1077\u001b[0m                     \u001b[0mvalues\u001b[0m\u001b[0;34m,\u001b[0m\u001b[0;34m\u001b[0m\u001b[0;34m\u001b[0m\u001b[0m\n\u001b[1;32m   1078\u001b[0m                     \u001b[0mf\u001b[0m\u001b[0;34m,\u001b[0m\u001b[0;34m\u001b[0m\u001b[0;34m\u001b[0m\u001b[0m\n",
            "\u001b[0;32m/usr/local/lib/python3.10/dist-packages/pandas/_libs/lib.pyx\u001b[0m in \u001b[0;36mpandas._libs.lib.map_infer\u001b[0;34m()\u001b[0m\n",
            "\u001b[0;32m<ipython-input-7-b3666836606b>\u001b[0m in \u001b[0;36mconvert_time_format\u001b[0;34m(time_str)\u001b[0m\n\u001b[1;32m      5\u001b[0m             \u001b[0mminutes\u001b[0m\u001b[0;34m,\u001b[0m \u001b[0mseconds\u001b[0m \u001b[0;34m=\u001b[0m \u001b[0mparts\u001b[0m\u001b[0;34m\u001b[0m\u001b[0;34m\u001b[0m\u001b[0m\n\u001b[1;32m      6\u001b[0m             \u001b[0;32mreturn\u001b[0m \u001b[0;34mf\"{int(minutes):02}:{float(seconds):05.2f}\"\u001b[0m\u001b[0;34m\u001b[0m\u001b[0;34m\u001b[0m\u001b[0m\n\u001b[0;32m----> 7\u001b[0;31m     \u001b[0;32mraise\u001b[0m \u001b[0mValueError\u001b[0m\u001b[0;34m(\u001b[0m\u001b[0;34m\"Invalid time format\"\u001b[0m\u001b[0;34m)\u001b[0m\u001b[0;34m\u001b[0m\u001b[0;34m\u001b[0m\u001b[0m\n\u001b[0m\u001b[1;32m      8\u001b[0m \u001b[0;34m\u001b[0m\u001b[0m\n\u001b[1;32m      9\u001b[0m \u001b[0mdf\u001b[0m\u001b[0;34m[\u001b[0m\u001b[0;34m'Time'\u001b[0m\u001b[0;34m]\u001b[0m \u001b[0;34m=\u001b[0m \u001b[0mdf\u001b[0m\u001b[0;34m[\u001b[0m\u001b[0;34m'Time'\u001b[0m\u001b[0;34m]\u001b[0m\u001b[0;34m.\u001b[0m\u001b[0mapply\u001b[0m\u001b[0;34m(\u001b[0m\u001b[0mconvert_time_format\u001b[0m\u001b[0;34m)\u001b[0m\u001b[0;34m\u001b[0m\u001b[0;34m\u001b[0m\u001b[0m\n",
            "\u001b[0;31mValueError\u001b[0m: Invalid time format"
          ]
        }
      ],
      "source": [
        "def convert_time_format(time_str):\n",
        "    if ':' in time_str:\n",
        "        parts = time_str.split(':')\n",
        "        if len(parts) == 2:\n",
        "            minutes, seconds = parts\n",
        "            return f\"{int(minutes):02}:{float(seconds):05.2f}\"\n",
        "    raise ValueError(\"Invalid time format\")\n",
        "\n",
        "df['Time'] = df['Time'].apply(convert_time_format)\n",
        "df['Time'] = pd.to_timedelta(df['Time']).dt.total_seconds()"
      ]
    },
    {
      "cell_type": "code",
      "execution_count": null,
      "metadata": {
        "id": "7UCqjVYXZ8NP"
      },
      "outputs": [],
      "source": [
        "unsafe_distance = 5.0"
      ]
    },
    {
      "cell_type": "code",
      "execution_count": null,
      "metadata": {
        "colab": {
          "base_uri": "https://localhost:8080/"
        },
        "id": "3pmQKaTOZ8P0",
        "outputId": "adc7dbdf-f59c-493f-cf9c-c0b760c8c7d3"
      },
      "outputs": [
        {
          "name": "stdout",
          "output_type": "stream",
          "text": [
            "                       Time  Entity_1_ID Entity_1_Category  Entity_2_ID  \\\n",
            "0   1900-01-01 10:07:02.056           12         motorbike           89   \n",
            "1   1900-01-01 10:00:35.020           10             truck           89   \n",
            "2   1900-01-01 10:00:41.839           10             truck           89   \n",
            "3   1900-01-01 10:01:05.878           10             truck           89   \n",
            "4   1900-01-01 10:01:15.206           10             truck           89   \n",
            "5   1900-01-01 10:02:33.636           10             truck           89   \n",
            "6   1900-01-01 10:02:39.283           10             truck           89   \n",
            "7   1900-01-01 10:02:46.293           10             truck           89   \n",
            "8   1900-01-01 10:06:20.702           12         motorbike           89   \n",
            "9   1900-01-01 10:07:27.163           12         motorbike           89   \n",
            "10  1900-01-01 10:07:33.382           12         motorbike           89   \n",
            "11  1900-01-01 10:08:12.135           12         motorbike           89   \n",
            "12  1900-01-01 10:08:14.980           12         motorbike           89   \n",
            "13  1900-01-01 10:08:24.909           12         motorbike           89   \n",
            "14  1900-01-01 10:08:27.711           12         motorbike           89   \n",
            "15  1900-01-01 10:08:53.411           12         motorbike           89   \n",
            "16  1900-01-01 10:08:56.353           12         motorbike           89   \n",
            "17  1900-01-01 10:09:12.016           12         motorbike           89   \n",
            "18  1900-01-01 10:09:19.151           12         motorbike           89   \n",
            "19  1900-01-01 10:09:22.093           12         motorbike           89   \n",
            "20  1900-01-01 10:09:57.618           12         motorbike           89   \n",
            "21  1900-01-01 10:08:37.651          368         motorbike          376   \n",
            "22  1900-01-01 10:13:50.657          545           bicycle          589   \n",
            "\n",
            "   Entity_2_Category  Distance  \n",
            "0              truck  1.500000  \n",
            "1              truck  0.000000  \n",
            "2              truck  0.500000  \n",
            "3              truck  3.041381  \n",
            "4              truck  2.500000  \n",
            "5              truck  1.118034  \n",
            "6              truck  3.162278  \n",
            "7              truck  0.500000  \n",
            "8              truck  2.236068  \n",
            "9              truck  3.905125  \n",
            "10             truck  2.500000  \n",
            "11             truck  2.915476  \n",
            "12             truck  1.500000  \n",
            "13             truck  2.236068  \n",
            "14             truck  0.500000  \n",
            "15             truck  3.201562  \n",
            "16             truck  2.236068  \n",
            "17             truck  0.707107  \n",
            "18             truck  3.640055  \n",
            "19             truck  2.500000  \n",
            "20             truck  4.472136  \n",
            "21         motorbike  4.924429  \n",
            "22           bicycle  3.162278  \n"
          ]
        }
      ],
      "source": [
        "unsafe_situations = []\n",
        "\n",
        "for time in df['Time'].unique():\n",
        "\n",
        "    df_time = df[df['Time'] == time]\n",
        "    positions = df_time[['Position_X', 'Position_Y']].values\n",
        "\n",
        "    dist_matrix = distance.cdist(positions, positions)\n",
        "\n",
        "\n",
        "    for i in range(len(dist_matrix)):\n",
        "        for j in range(i + 1, len(dist_matrix)):\n",
        "            if dist_matrix[i, j] < unsafe_distance:\n",
        "                entity_1 = df_time.iloc[i]\n",
        "                entity_2 = df_time.iloc[j]\n",
        "                unsafe_situations.append({\n",
        "                    \"Time\": time,\n",
        "                    \"Entity_1_ID\": entity_1['ID'],\n",
        "                    \"Entity_1_Category\": entity_1['Category'],\n",
        "                    \"Entity_2_ID\": entity_2['ID'],\n",
        "                    \"Entity_2_Category\": entity_2['Category'],\n",
        "                    \"Distance\": dist_matrix[i, j]\n",
        "                })\n",
        "\n",
        "unsafe_df = pd.DataFrame(unsafe_situations)\n",
        "\n",
        "print(unsafe_df)"
      ]
    },
    {
      "cell_type": "code",
      "execution_count": null,
      "metadata": {
        "id": "fjCVuMfgZ8SI"
      },
      "outputs": [],
      "source": []
    },
    {
      "cell_type": "code",
      "execution_count": null,
      "metadata": {
        "id": "zddx1J96Z8Ui"
      },
      "outputs": [],
      "source": []
    },
    {
      "cell_type": "code",
      "execution_count": null,
      "metadata": {
        "id": "Okb1tHXoe_IV"
      },
      "outputs": [],
      "source": []
    },
    {
      "cell_type": "code",
      "execution_count": null,
      "metadata": {
        "id": "cry9bvo6e_Kh"
      },
      "outputs": [],
      "source": []
    },
    {
      "cell_type": "code",
      "execution_count": null,
      "metadata": {
        "id": "5tQ6bC61e_ND"
      },
      "outputs": [],
      "source": [
        "def calculate_distance(x1, y1, x2, y2):\n",
        "    return np.sqrt((x2 - x1)**2 + (y2 - y1)**2)"
      ]
    },
    {
      "cell_type": "code",
      "execution_count": null,
      "metadata": {
        "id": "ThZztWC5e_Pa"
      },
      "outputs": [],
      "source": [
        "proximity_threshold = 5.0"
      ]
    },
    {
      "cell_type": "code",
      "execution_count": null,
      "metadata": {
        "id": "GxSyRrBre_R8"
      },
      "outputs": [],
      "source": [
        "unsafe_situations = []"
      ]
    },
    {
      "cell_type": "code",
      "execution_count": null,
      "metadata": {
        "id": "jl2PzOfTe_UB",
        "colab": {
          "base_uri": "https://localhost:8080/",
          "height": 280
        },
        "outputId": "b48bfd9b-9e65-4fa0-f429-b00c29a588a6"
      },
      "outputs": [
        {
          "output_type": "error",
          "ename": "KeyboardInterrupt",
          "evalue": "",
          "traceback": [
            "\u001b[0;31m---------------------------------------------------------------------------\u001b[0m",
            "\u001b[0;31mKeyboardInterrupt\u001b[0m                         Traceback (most recent call last)",
            "\u001b[0;32m<ipython-input-8-8e7f79ca8597>\u001b[0m in \u001b[0;36m<cell line: 1>\u001b[0;34m()\u001b[0m\n\u001b[1;32m     14\u001b[0m         \u001b[0;32mif\u001b[0m \u001b[0mcurrent_id\u001b[0m \u001b[0;34m!=\u001b[0m \u001b[0mcompare_id\u001b[0m \u001b[0;32mand\u001b[0m \u001b[0mcurrent_category\u001b[0m \u001b[0;34m!=\u001b[0m \u001b[0mcompare_category\u001b[0m\u001b[0;34m:\u001b[0m\u001b[0;34m\u001b[0m\u001b[0;34m\u001b[0m\u001b[0m\n\u001b[1;32m     15\u001b[0m \u001b[0;34m\u001b[0m\u001b[0m\n\u001b[0;32m---> 16\u001b[0;31m             \u001b[0mdistance\u001b[0m \u001b[0;34m=\u001b[0m \u001b[0mcalculate_distance\u001b[0m\u001b[0;34m(\u001b[0m\u001b[0mcurrent_x\u001b[0m\u001b[0;34m,\u001b[0m \u001b[0mcurrent_y\u001b[0m\u001b[0;34m,\u001b[0m \u001b[0mcompare_x\u001b[0m\u001b[0;34m,\u001b[0m \u001b[0mcompare_y\u001b[0m\u001b[0;34m)\u001b[0m\u001b[0;34m\u001b[0m\u001b[0;34m\u001b[0m\u001b[0m\n\u001b[0m\u001b[1;32m     17\u001b[0m \u001b[0;34m\u001b[0m\u001b[0m\n\u001b[1;32m     18\u001b[0m             \u001b[0;32mif\u001b[0m \u001b[0mdistance\u001b[0m \u001b[0;34m<\u001b[0m \u001b[0mproximity_threshold\u001b[0m\u001b[0;34m:\u001b[0m\u001b[0;34m\u001b[0m\u001b[0;34m\u001b[0m\u001b[0m\n",
            "\u001b[0;32m<ipython-input-5-e07c2abd4f3f>\u001b[0m in \u001b[0;36mcalculate_distance\u001b[0;34m(x1, y1, x2, y2)\u001b[0m\n\u001b[0;32m----> 1\u001b[0;31m \u001b[0;32mdef\u001b[0m \u001b[0mcalculate_distance\u001b[0m\u001b[0;34m(\u001b[0m\u001b[0mx1\u001b[0m\u001b[0;34m,\u001b[0m \u001b[0my1\u001b[0m\u001b[0;34m,\u001b[0m \u001b[0mx2\u001b[0m\u001b[0;34m,\u001b[0m \u001b[0my2\u001b[0m\u001b[0;34m)\u001b[0m\u001b[0;34m:\u001b[0m\u001b[0;34m\u001b[0m\u001b[0;34m\u001b[0m\u001b[0m\n\u001b[0m\u001b[1;32m      2\u001b[0m     \u001b[0;32mreturn\u001b[0m \u001b[0mnp\u001b[0m\u001b[0;34m.\u001b[0m\u001b[0msqrt\u001b[0m\u001b[0;34m(\u001b[0m\u001b[0;34m(\u001b[0m\u001b[0mx2\u001b[0m \u001b[0;34m-\u001b[0m \u001b[0mx1\u001b[0m\u001b[0;34m)\u001b[0m\u001b[0;34m**\u001b[0m\u001b[0;36m2\u001b[0m \u001b[0;34m+\u001b[0m \u001b[0;34m(\u001b[0m\u001b[0my2\u001b[0m \u001b[0;34m-\u001b[0m \u001b[0my1\u001b[0m\u001b[0;34m)\u001b[0m\u001b[0;34m**\u001b[0m\u001b[0;36m2\u001b[0m\u001b[0;34m)\u001b[0m\u001b[0;34m\u001b[0m\u001b[0;34m\u001b[0m\u001b[0m\n",
            "\u001b[0;31mKeyboardInterrupt\u001b[0m: "
          ]
        }
      ],
      "source": [
        "for i in range(len(df)):\n",
        "    current_id = df.loc[i, 'ID']\n",
        "    current_category = df.loc[i, 'Category']\n",
        "    current_x = df.loc[i, 'Position_X']\n",
        "    current_y = df.loc[i, 'Position_Y']\n",
        "\n",
        "\n",
        "    for j in range(i + 1, len(df)):\n",
        "        compare_id = df.loc[j, 'ID']\n",
        "        compare_category = df.loc[j, 'Category']\n",
        "        compare_x = df.loc[j, 'Position_X']\n",
        "        compare_y = df.loc[j, 'Position_Y']\n",
        "\n",
        "        if current_id != compare_id and current_category != compare_category:\n",
        "            distance = calculate_distance(current_x, current_y, compare_x, compare_y)\n",
        "            if distance < proximity_threshold:\n",
        "                unsafe_situations.append((current_id, compare_id, df.loc[i, 'Time'], df.loc[j, 'Time'], distance))"
      ]
    },
    {
      "cell_type": "code",
      "execution_count": null,
      "metadata": {
        "id": "8p7pvYPTe_WK"
      },
      "outputs": [],
      "source": [
        "unsafe_situations_df = pd.DataFrame(unsafe_situations, columns=['ID1', 'ID2', 'Time1', 'Time2', 'Distance'])"
      ]
    },
    {
      "cell_type": "code",
      "execution_count": null,
      "metadata": {
        "id": "F3nmt8BIZ8XL"
      },
      "outputs": [],
      "source": [
        "print(\"Unsafe Situations:\")\n",
        "print(unsafe_situations_df)"
      ]
    },
    {
      "cell_type": "code",
      "execution_count": null,
      "metadata": {
        "colab": {
          "base_uri": "https://localhost:8080/",
          "height": 17
        },
        "id": "6_JZsSI-z_Rb",
        "outputId": "f0224cf6-c8b4-4c27-c694-8ab69e8ab419"
      },
      "outputs": [
        {
          "data": {
            "application/javascript": [
              "\n",
              "    async function download(id, filename, size) {\n",
              "      if (!google.colab.kernel.accessAllowed) {\n",
              "        return;\n",
              "      }\n",
              "      const div = document.createElement('div');\n",
              "      const label = document.createElement('label');\n",
              "      label.textContent = `Downloading \"${filename}\": `;\n",
              "      div.appendChild(label);\n",
              "      const progress = document.createElement('progress');\n",
              "      progress.max = size;\n",
              "      div.appendChild(progress);\n",
              "      document.body.appendChild(div);\n",
              "\n",
              "      const buffers = [];\n",
              "      let downloaded = 0;\n",
              "\n",
              "      const channel = await google.colab.kernel.comms.open(id);\n",
              "      // Send a message to notify the kernel that we're ready.\n",
              "      channel.send({})\n",
              "\n",
              "      for await (const message of channel.messages) {\n",
              "        // Send a message to notify the kernel that we're ready.\n",
              "        channel.send({})\n",
              "        if (message.buffers) {\n",
              "          for (const buffer of message.buffers) {\n",
              "            buffers.push(buffer);\n",
              "            downloaded += buffer.byteLength;\n",
              "            progress.value = downloaded;\n",
              "          }\n",
              "        }\n",
              "      }\n",
              "      const blob = new Blob(buffers, {type: 'application/binary'});\n",
              "      const a = document.createElement('a');\n",
              "      a.href = window.URL.createObjectURL(blob);\n",
              "      a.download = filename;\n",
              "      div.appendChild(a);\n",
              "      a.click();\n",
              "      div.remove();\n",
              "    }\n",
              "  "
            ],
            "text/plain": [
              "<IPython.core.display.Javascript object>"
            ]
          },
          "metadata": {},
          "output_type": "display_data"
        },
        {
          "data": {
            "application/javascript": [
              "download(\"download_66c257f2-9afd-4b2c-b292-3e515786f359\", \"unsafe_situations1.xlsx\", 78828)"
            ],
            "text/plain": [
              "<IPython.core.display.Javascript object>"
            ]
          },
          "metadata": {},
          "output_type": "display_data"
        }
      ],
      "source": [
        "from google.colab import files\n",
        "files.download(\"/content/unsafe_situations2.xlsx\")"
      ]
    },
    {
      "cell_type": "code",
      "execution_count": null,
      "metadata": {
        "id": "1QWlkUOTz_UT"
      },
      "outputs": [],
      "source": []
    },
    {
      "cell_type": "code",
      "execution_count": null,
      "metadata": {
        "id": "cvqQlBxcVZso"
      },
      "outputs": [],
      "source": []
    },
    {
      "cell_type": "code",
      "execution_count": null,
      "metadata": {
        "id": "_cXmRx85VZvr"
      },
      "outputs": [],
      "source": []
    },
    {
      "cell_type": "code",
      "execution_count": null,
      "metadata": {
        "id": "sJnd4GXzVZyN"
      },
      "outputs": [],
      "source": []
    },
    {
      "cell_type": "code",
      "execution_count": null,
      "metadata": {
        "id": "rYxuKCtUVZ0_"
      },
      "outputs": [],
      "source": []
    },
    {
      "cell_type": "code",
      "execution_count": null,
      "metadata": {
        "id": "mK_8an62VZ24"
      },
      "outputs": [],
      "source": []
    },
    {
      "cell_type": "code",
      "execution_count": null,
      "metadata": {
        "colab": {
          "background_save": true
        },
        "id": "fP0SxS7vVZ4o",
        "outputId": "8b8522b0-0584-4681-dda1-b205ba010e97"
      },
      "outputs": [
        {
          "name": "stdout",
          "output_type": "stream",
          "text": [
            "Unsafe Situations:\n",
            "    ID1  ID2  Category1 Category2                     Time  Distance\n",
            "0    12   89  motorbike     truck  1900-01-01 10:06:20.702  2.236068\n",
            "1    12   89  motorbike     truck  1900-01-01 10:07:02.056  1.500000\n",
            "2    12   89  motorbike     truck  1900-01-01 10:07:27.163  3.905125\n",
            "3    12   89  motorbike     truck  1900-01-01 10:07:33.382  2.500000\n",
            "4    12   89  motorbike     truck  1900-01-01 10:08:12.135  2.915476\n",
            "5    12   89  motorbike     truck  1900-01-01 10:08:14.980  1.500000\n",
            "6    12   89  motorbike     truck  1900-01-01 10:08:24.909  2.236068\n",
            "7    12   89  motorbike     truck  1900-01-01 10:08:27.711  0.500000\n",
            "8    12   89  motorbike     truck  1900-01-01 10:08:53.411  3.201562\n",
            "9    12   89  motorbike     truck  1900-01-01 10:08:56.353  2.236068\n",
            "10   12   89  motorbike     truck  1900-01-01 10:09:12.016  0.707107\n",
            "11   12   89  motorbike     truck  1900-01-01 10:09:19.151  3.640055\n",
            "12   12   89  motorbike     truck  1900-01-01 10:09:22.093  2.500000\n",
            "13   12   89  motorbike     truck  1900-01-01 10:09:57.618  4.472136\n"
          ]
        }
      ],
      "source": [
        "import numpy as np\n",
        "import pandas as pd\n",
        "\n",
        "\n",
        "def calculate_distance(x1, y1, x2, y2):\n",
        "    return np.sqrt((x2 - x1)**2 + (y2 - y1)**2)\n",
        "\n",
        "proximity_threshold = 5.0\n",
        "unsafe_situations = []\n",
        "\n",
        "for i in range(len(df)):\n",
        "    current_id = df.loc[i, 'ID']\n",
        "    current_category = df.loc[i, 'Category']\n",
        "    current_x = df.loc[i, 'Position_X']\n",
        "    current_y = df.loc[i, 'Position_Y']\n",
        "    current_time = df.loc[i, 'Time']\n",
        "\n",
        "    for j in range(i + 1, len(df)):\n",
        "        compare_id = df.loc[j, 'ID']\n",
        "        compare_category = df.loc[j, 'Category']\n",
        "        compare_x = df.loc[j, 'Position_X']\n",
        "        compare_y = df.loc[j, 'Position_Y']\n",
        "        compare_time = df.loc[j, 'Time']\n",
        "\n",
        "        if current_id != compare_id and current_category != compare_category and current_time == compare_time:\n",
        "            distance = calculate_distance(current_x, current_y, compare_x, compare_y)\n",
        "\n",
        "            if distance < proximity_threshold:\n",
        "                unsafe_situations.append((\n",
        "                    current_id,\n",
        "                    compare_id,\n",
        "                    current_category,\n",
        "                    compare_category,\n",
        "                    current_time,\n",
        "                    distance\n",
        "                ))\n",
        "\n",
        "unsafe_situations_df = pd.DataFrame(unsafe_situations, columns=[\n",
        "    'ID1', 'ID2', 'Category1', 'Category2', 'Time', 'Distance'\n",
        "])\n",
        "\n",
        "print(\"Unsafe Situations:\")\n",
        "print(unsafe_situations_df)\n"
      ]
    },
    {
      "cell_type": "code",
      "execution_count": null,
      "metadata": {
        "id": "xv2pmkBQVZ6b"
      },
      "outputs": [],
      "source": []
    },
    {
      "cell_type": "code",
      "execution_count": null,
      "metadata": {
        "id": "-BWWDHWXVZ97"
      },
      "outputs": [],
      "source": []
    }
  ],
  "metadata": {
    "colab": {
      "provenance": []
    },
    "kernelspec": {
      "display_name": "Python 3",
      "name": "python3"
    },
    "language_info": {
      "name": "python"
    }
  },
  "nbformat": 4,
  "nbformat_minor": 0
}