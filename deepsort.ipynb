{
  "nbformat": 4,
  "nbformat_minor": 0,
  "metadata": {
    "colab": {
      "provenance": [],
      "gpuType": "T4"
    },
    "kernelspec": {
      "name": "python3",
      "display_name": "Python 3"
    },
    "language_info": {
      "name": "python"
    },
    "accelerator": "GPU"
  },
  "cells": [
    {
      "cell_type": "code",
      "execution_count": null,
      "metadata": {
        "colab": {
          "base_uri": "https://localhost:8080/"
        },
        "id": "qTHZAxxVlnAd",
        "outputId": "e9be30e4-e53b-4181-ef01-5bc39dc4b95d"
      },
      "outputs": [
        {
          "output_type": "stream",
          "name": "stdout",
          "text": [
            "fatal: destination path 'YOLOv9-DeepSORT-Object-Tracking' already exists and is not an empty directory.\n"
          ]
        }
      ],
      "source": [
        "!git clone https://github.com/MuhammadMoinFaisal/YOLOv9-DeepSORT-Object-Tracking.git"
      ]
    },
    {
      "cell_type": "code",
      "source": [
        "%cd YOLOv9-DeepSORT-Object-Tracking"
      ],
      "metadata": {
        "colab": {
          "base_uri": "https://localhost:8080/"
        },
        "id": "QYUwrlTHlqMN",
        "outputId": "1a248416-05f1-49bc-96ff-74008d991990"
      },
      "execution_count": null,
      "outputs": [
        {
          "output_type": "stream",
          "name": "stdout",
          "text": [
            "/content/YOLOv9-DeepSORT-Object-Tracking\n"
          ]
        }
      ]
    },
    {
      "cell_type": "code",
      "source": [
        "!pip install -r requirements.txt"
      ],
      "metadata": {
        "colab": {
          "base_uri": "https://localhost:8080/"
        },
        "id": "0gD9sEmylqSI",
        "outputId": "8a0d6834-c4da-4707-e19a-e761ca17f52e"
      },
      "execution_count": null,
      "outputs": [
        {
          "output_type": "stream",
          "name": "stdout",
          "text": [
            "Requirement already satisfied: gitpython in /usr/local/lib/python3.10/dist-packages (from -r requirements.txt (line 5)) (3.1.43)\n",
            "Requirement already satisfied: ipython in /usr/local/lib/python3.10/dist-packages (from -r requirements.txt (line 6)) (7.34.0)\n",
            "Requirement already satisfied: matplotlib>=3.2.2 in /usr/local/lib/python3.10/dist-packages (from -r requirements.txt (line 7)) (3.7.1)\n",
            "Requirement already satisfied: numpy>=1.18.5 in /usr/local/lib/python3.10/dist-packages (from -r requirements.txt (line 8)) (1.25.2)\n",
            "Requirement already satisfied: opencv-python>=4.1.1 in /usr/local/lib/python3.10/dist-packages (from -r requirements.txt (line 9)) (4.8.0.76)\n",
            "Requirement already satisfied: Pillow>=7.1.2 in /usr/local/lib/python3.10/dist-packages (from -r requirements.txt (line 10)) (9.4.0)\n",
            "Requirement already satisfied: psutil in /usr/local/lib/python3.10/dist-packages (from -r requirements.txt (line 11)) (5.9.5)\n",
            "Requirement already satisfied: PyYAML>=5.3.1 in /usr/local/lib/python3.10/dist-packages (from -r requirements.txt (line 12)) (6.0.1)\n",
            "Requirement already satisfied: requests>=2.23.0 in /usr/local/lib/python3.10/dist-packages (from -r requirements.txt (line 13)) (2.31.0)\n",
            "Requirement already satisfied: scipy>=1.4.1 in /usr/local/lib/python3.10/dist-packages (from -r requirements.txt (line 14)) (1.11.4)\n",
            "Requirement already satisfied: thop>=0.1.1 in /usr/local/lib/python3.10/dist-packages (from -r requirements.txt (line 15)) (0.1.1.post2209072238)\n",
            "Requirement already satisfied: torch>=1.7.0 in /usr/local/lib/python3.10/dist-packages (from -r requirements.txt (line 16)) (2.3.0+cu121)\n",
            "Requirement already satisfied: torchvision>=0.8.1 in /usr/local/lib/python3.10/dist-packages (from -r requirements.txt (line 17)) (0.18.0+cu121)\n",
            "Requirement already satisfied: tqdm>=4.64.0 in /usr/local/lib/python3.10/dist-packages (from -r requirements.txt (line 18)) (4.66.4)\n",
            "Requirement already satisfied: tensorboard>=2.4.1 in /usr/local/lib/python3.10/dist-packages (from -r requirements.txt (line 22)) (2.15.2)\n",
            "Requirement already satisfied: pandas>=1.1.4 in /usr/local/lib/python3.10/dist-packages (from -r requirements.txt (line 27)) (2.0.3)\n",
            "Requirement already satisfied: seaborn>=0.11.0 in /usr/local/lib/python3.10/dist-packages (from -r requirements.txt (line 28)) (0.13.1)\n",
            "Requirement already satisfied: albumentations>=1.0.3 in /usr/local/lib/python3.10/dist-packages (from -r requirements.txt (line 46)) (1.3.1)\n",
            "Requirement already satisfied: pycocotools>=2.0 in /usr/local/lib/python3.10/dist-packages (from -r requirements.txt (line 47)) (2.0.7)\n",
            "Requirement already satisfied: gitdb<5,>=4.0.1 in /usr/local/lib/python3.10/dist-packages (from gitpython->-r requirements.txt (line 5)) (4.0.11)\n",
            "Requirement already satisfied: setuptools>=18.5 in /usr/local/lib/python3.10/dist-packages (from ipython->-r requirements.txt (line 6)) (67.7.2)\n",
            "Requirement already satisfied: jedi>=0.16 in /usr/local/lib/python3.10/dist-packages (from ipython->-r requirements.txt (line 6)) (0.19.1)\n",
            "Requirement already satisfied: decorator in /usr/local/lib/python3.10/dist-packages (from ipython->-r requirements.txt (line 6)) (4.4.2)\n",
            "Requirement already satisfied: pickleshare in /usr/local/lib/python3.10/dist-packages (from ipython->-r requirements.txt (line 6)) (0.7.5)\n",
            "Requirement already satisfied: traitlets>=4.2 in /usr/local/lib/python3.10/dist-packages (from ipython->-r requirements.txt (line 6)) (5.7.1)\n",
            "Requirement already satisfied: prompt-toolkit!=3.0.0,!=3.0.1,<3.1.0,>=2.0.0 in /usr/local/lib/python3.10/dist-packages (from ipython->-r requirements.txt (line 6)) (3.0.43)\n",
            "Requirement already satisfied: pygments in /usr/local/lib/python3.10/dist-packages (from ipython->-r requirements.txt (line 6)) (2.16.1)\n",
            "Requirement already satisfied: backcall in /usr/local/lib/python3.10/dist-packages (from ipython->-r requirements.txt (line 6)) (0.2.0)\n",
            "Requirement already satisfied: matplotlib-inline in /usr/local/lib/python3.10/dist-packages (from ipython->-r requirements.txt (line 6)) (0.1.7)\n",
            "Requirement already satisfied: pexpect>4.3 in /usr/local/lib/python3.10/dist-packages (from ipython->-r requirements.txt (line 6)) (4.9.0)\n",
            "Requirement already satisfied: contourpy>=1.0.1 in /usr/local/lib/python3.10/dist-packages (from matplotlib>=3.2.2->-r requirements.txt (line 7)) (1.2.1)\n",
            "Requirement already satisfied: cycler>=0.10 in /usr/local/lib/python3.10/dist-packages (from matplotlib>=3.2.2->-r requirements.txt (line 7)) (0.12.1)\n",
            "Requirement already satisfied: fonttools>=4.22.0 in /usr/local/lib/python3.10/dist-packages (from matplotlib>=3.2.2->-r requirements.txt (line 7)) (4.51.0)\n",
            "Requirement already satisfied: kiwisolver>=1.0.1 in /usr/local/lib/python3.10/dist-packages (from matplotlib>=3.2.2->-r requirements.txt (line 7)) (1.4.5)\n",
            "Requirement already satisfied: packaging>=20.0 in /usr/local/lib/python3.10/dist-packages (from matplotlib>=3.2.2->-r requirements.txt (line 7)) (24.0)\n",
            "Requirement already satisfied: pyparsing>=2.3.1 in /usr/local/lib/python3.10/dist-packages (from matplotlib>=3.2.2->-r requirements.txt (line 7)) (3.1.2)\n",
            "Requirement already satisfied: python-dateutil>=2.7 in /usr/local/lib/python3.10/dist-packages (from matplotlib>=3.2.2->-r requirements.txt (line 7)) (2.8.2)\n",
            "Requirement already satisfied: charset-normalizer<4,>=2 in /usr/local/lib/python3.10/dist-packages (from requests>=2.23.0->-r requirements.txt (line 13)) (3.3.2)\n",
            "Requirement already satisfied: idna<4,>=2.5 in /usr/local/lib/python3.10/dist-packages (from requests>=2.23.0->-r requirements.txt (line 13)) (3.7)\n",
            "Requirement already satisfied: urllib3<3,>=1.21.1 in /usr/local/lib/python3.10/dist-packages (from requests>=2.23.0->-r requirements.txt (line 13)) (2.0.7)\n",
            "Requirement already satisfied: certifi>=2017.4.17 in /usr/local/lib/python3.10/dist-packages (from requests>=2.23.0->-r requirements.txt (line 13)) (2024.2.2)\n",
            "Requirement already satisfied: filelock in /usr/local/lib/python3.10/dist-packages (from torch>=1.7.0->-r requirements.txt (line 16)) (3.14.0)\n",
            "Requirement already satisfied: typing-extensions>=4.8.0 in /usr/local/lib/python3.10/dist-packages (from torch>=1.7.0->-r requirements.txt (line 16)) (4.11.0)\n",
            "Requirement already satisfied: sympy in /usr/local/lib/python3.10/dist-packages (from torch>=1.7.0->-r requirements.txt (line 16)) (1.12)\n",
            "Requirement already satisfied: networkx in /usr/local/lib/python3.10/dist-packages (from torch>=1.7.0->-r requirements.txt (line 16)) (3.3)\n",
            "Requirement already satisfied: jinja2 in /usr/local/lib/python3.10/dist-packages (from torch>=1.7.0->-r requirements.txt (line 16)) (3.1.4)\n",
            "Requirement already satisfied: fsspec in /usr/local/lib/python3.10/dist-packages (from torch>=1.7.0->-r requirements.txt (line 16)) (2023.6.0)\n",
            "Requirement already satisfied: nvidia-cuda-nvrtc-cu12==12.1.105 in /usr/local/lib/python3.10/dist-packages (from torch>=1.7.0->-r requirements.txt (line 16)) (12.1.105)\n",
            "Requirement already satisfied: nvidia-cuda-runtime-cu12==12.1.105 in /usr/local/lib/python3.10/dist-packages (from torch>=1.7.0->-r requirements.txt (line 16)) (12.1.105)\n",
            "Requirement already satisfied: nvidia-cuda-cupti-cu12==12.1.105 in /usr/local/lib/python3.10/dist-packages (from torch>=1.7.0->-r requirements.txt (line 16)) (12.1.105)\n",
            "Requirement already satisfied: nvidia-cudnn-cu12==8.9.2.26 in /usr/local/lib/python3.10/dist-packages (from torch>=1.7.0->-r requirements.txt (line 16)) (8.9.2.26)\n",
            "Requirement already satisfied: nvidia-cublas-cu12==12.1.3.1 in /usr/local/lib/python3.10/dist-packages (from torch>=1.7.0->-r requirements.txt (line 16)) (12.1.3.1)\n",
            "Requirement already satisfied: nvidia-cufft-cu12==11.0.2.54 in /usr/local/lib/python3.10/dist-packages (from torch>=1.7.0->-r requirements.txt (line 16)) (11.0.2.54)\n",
            "Requirement already satisfied: nvidia-curand-cu12==10.3.2.106 in /usr/local/lib/python3.10/dist-packages (from torch>=1.7.0->-r requirements.txt (line 16)) (10.3.2.106)\n",
            "Requirement already satisfied: nvidia-cusolver-cu12==11.4.5.107 in /usr/local/lib/python3.10/dist-packages (from torch>=1.7.0->-r requirements.txt (line 16)) (11.4.5.107)\n",
            "Requirement already satisfied: nvidia-cusparse-cu12==12.1.0.106 in /usr/local/lib/python3.10/dist-packages (from torch>=1.7.0->-r requirements.txt (line 16)) (12.1.0.106)\n",
            "Requirement already satisfied: nvidia-nccl-cu12==2.20.5 in /usr/local/lib/python3.10/dist-packages (from torch>=1.7.0->-r requirements.txt (line 16)) (2.20.5)\n",
            "Requirement already satisfied: nvidia-nvtx-cu12==12.1.105 in /usr/local/lib/python3.10/dist-packages (from torch>=1.7.0->-r requirements.txt (line 16)) (12.1.105)\n",
            "Requirement already satisfied: triton==2.3.0 in /usr/local/lib/python3.10/dist-packages (from torch>=1.7.0->-r requirements.txt (line 16)) (2.3.0)\n",
            "Requirement already satisfied: nvidia-nvjitlink-cu12 in /usr/local/lib/python3.10/dist-packages (from nvidia-cusolver-cu12==11.4.5.107->torch>=1.7.0->-r requirements.txt (line 16)) (12.5.40)\n",
            "Requirement already satisfied: absl-py>=0.4 in /usr/local/lib/python3.10/dist-packages (from tensorboard>=2.4.1->-r requirements.txt (line 22)) (1.4.0)\n",
            "Requirement already satisfied: grpcio>=1.48.2 in /usr/local/lib/python3.10/dist-packages (from tensorboard>=2.4.1->-r requirements.txt (line 22)) (1.64.0)\n",
            "Requirement already satisfied: google-auth<3,>=1.6.3 in /usr/local/lib/python3.10/dist-packages (from tensorboard>=2.4.1->-r requirements.txt (line 22)) (2.27.0)\n",
            "Requirement already satisfied: google-auth-oauthlib<2,>=0.5 in /usr/local/lib/python3.10/dist-packages (from tensorboard>=2.4.1->-r requirements.txt (line 22)) (1.2.0)\n",
            "Requirement already satisfied: markdown>=2.6.8 in /usr/local/lib/python3.10/dist-packages (from tensorboard>=2.4.1->-r requirements.txt (line 22)) (3.6)\n",
            "Requirement already satisfied: protobuf!=4.24.0,>=3.19.6 in /usr/local/lib/python3.10/dist-packages (from tensorboard>=2.4.1->-r requirements.txt (line 22)) (3.20.3)\n",
            "Requirement already satisfied: six>1.9 in /usr/local/lib/python3.10/dist-packages (from tensorboard>=2.4.1->-r requirements.txt (line 22)) (1.16.0)\n",
            "Requirement already satisfied: tensorboard-data-server<0.8.0,>=0.7.0 in /usr/local/lib/python3.10/dist-packages (from tensorboard>=2.4.1->-r requirements.txt (line 22)) (0.7.2)\n",
            "Requirement already satisfied: werkzeug>=1.0.1 in /usr/local/lib/python3.10/dist-packages (from tensorboard>=2.4.1->-r requirements.txt (line 22)) (3.0.3)\n",
            "Requirement already satisfied: pytz>=2020.1 in /usr/local/lib/python3.10/dist-packages (from pandas>=1.1.4->-r requirements.txt (line 27)) (2023.4)\n",
            "Requirement already satisfied: tzdata>=2022.1 in /usr/local/lib/python3.10/dist-packages (from pandas>=1.1.4->-r requirements.txt (line 27)) (2024.1)\n",
            "Requirement already satisfied: scikit-image>=0.16.1 in /usr/local/lib/python3.10/dist-packages (from albumentations>=1.0.3->-r requirements.txt (line 46)) (0.19.3)\n",
            "Requirement already satisfied: qudida>=0.0.4 in /usr/local/lib/python3.10/dist-packages (from albumentations>=1.0.3->-r requirements.txt (line 46)) (0.0.4)\n",
            "Requirement already satisfied: opencv-python-headless>=4.1.1 in /usr/local/lib/python3.10/dist-packages (from albumentations>=1.0.3->-r requirements.txt (line 46)) (4.9.0.80)\n",
            "Requirement already satisfied: smmap<6,>=3.0.1 in /usr/local/lib/python3.10/dist-packages (from gitdb<5,>=4.0.1->gitpython->-r requirements.txt (line 5)) (5.0.1)\n",
            "Requirement already satisfied: cachetools<6.0,>=2.0.0 in /usr/local/lib/python3.10/dist-packages (from google-auth<3,>=1.6.3->tensorboard>=2.4.1->-r requirements.txt (line 22)) (5.3.3)\n",
            "Requirement already satisfied: pyasn1-modules>=0.2.1 in /usr/local/lib/python3.10/dist-packages (from google-auth<3,>=1.6.3->tensorboard>=2.4.1->-r requirements.txt (line 22)) (0.4.0)\n",
            "Requirement already satisfied: rsa<5,>=3.1.4 in /usr/local/lib/python3.10/dist-packages (from google-auth<3,>=1.6.3->tensorboard>=2.4.1->-r requirements.txt (line 22)) (4.9)\n",
            "Requirement already satisfied: requests-oauthlib>=0.7.0 in /usr/local/lib/python3.10/dist-packages (from google-auth-oauthlib<2,>=0.5->tensorboard>=2.4.1->-r requirements.txt (line 22)) (1.3.1)\n",
            "Requirement already satisfied: parso<0.9.0,>=0.8.3 in /usr/local/lib/python3.10/dist-packages (from jedi>=0.16->ipython->-r requirements.txt (line 6)) (0.8.4)\n",
            "Requirement already satisfied: ptyprocess>=0.5 in /usr/local/lib/python3.10/dist-packages (from pexpect>4.3->ipython->-r requirements.txt (line 6)) (0.7.0)\n",
            "Requirement already satisfied: wcwidth in /usr/local/lib/python3.10/dist-packages (from prompt-toolkit!=3.0.0,!=3.0.1,<3.1.0,>=2.0.0->ipython->-r requirements.txt (line 6)) (0.2.13)\n",
            "Requirement already satisfied: scikit-learn>=0.19.1 in /usr/local/lib/python3.10/dist-packages (from qudida>=0.0.4->albumentations>=1.0.3->-r requirements.txt (line 46)) (1.2.2)\n",
            "Requirement already satisfied: imageio>=2.4.1 in /usr/local/lib/python3.10/dist-packages (from scikit-image>=0.16.1->albumentations>=1.0.3->-r requirements.txt (line 46)) (2.31.6)\n",
            "Requirement already satisfied: tifffile>=2019.7.26 in /usr/local/lib/python3.10/dist-packages (from scikit-image>=0.16.1->albumentations>=1.0.3->-r requirements.txt (line 46)) (2024.5.10)\n",
            "Requirement already satisfied: PyWavelets>=1.1.1 in /usr/local/lib/python3.10/dist-packages (from scikit-image>=0.16.1->albumentations>=1.0.3->-r requirements.txt (line 46)) (1.6.0)\n",
            "Requirement already satisfied: MarkupSafe>=2.1.1 in /usr/local/lib/python3.10/dist-packages (from werkzeug>=1.0.1->tensorboard>=2.4.1->-r requirements.txt (line 22)) (2.1.5)\n",
            "Requirement already satisfied: mpmath>=0.19 in /usr/local/lib/python3.10/dist-packages (from sympy->torch>=1.7.0->-r requirements.txt (line 16)) (1.3.0)\n",
            "Requirement already satisfied: pyasn1<0.7.0,>=0.4.6 in /usr/local/lib/python3.10/dist-packages (from pyasn1-modules>=0.2.1->google-auth<3,>=1.6.3->tensorboard>=2.4.1->-r requirements.txt (line 22)) (0.6.0)\n",
            "Requirement already satisfied: oauthlib>=3.0.0 in /usr/local/lib/python3.10/dist-packages (from requests-oauthlib>=0.7.0->google-auth-oauthlib<2,>=0.5->tensorboard>=2.4.1->-r requirements.txt (line 22)) (3.2.2)\n",
            "Requirement already satisfied: joblib>=1.1.1 in /usr/local/lib/python3.10/dist-packages (from scikit-learn>=0.19.1->qudida>=0.0.4->albumentations>=1.0.3->-r requirements.txt (line 46)) (1.4.2)\n",
            "Requirement already satisfied: threadpoolctl>=2.0.0 in /usr/local/lib/python3.10/dist-packages (from scikit-learn>=0.19.1->qudida>=0.0.4->albumentations>=1.0.3->-r requirements.txt (line 46)) (3.5.0)\n"
          ]
        }
      ]
    },
    {
      "cell_type": "code",
      "source": [
        "!gdown \"https://drive.google.com/uc?id=11ZSZcG-bcbueXZC3rN08CM0qqX3eiHxf&confirm=t\""
      ],
      "metadata": {
        "colab": {
          "base_uri": "https://localhost:8080/"
        },
        "id": "pX8dcgaHlqW7",
        "outputId": "77f74103-6fcb-487b-c0cd-304d6771f4fb"
      },
      "execution_count": null,
      "outputs": [
        {
          "output_type": "stream",
          "name": "stdout",
          "text": [
            "Downloading...\n",
            "From: https://drive.google.com/uc?id=11ZSZcG-bcbueXZC3rN08CM0qqX3eiHxf&confirm=t\n",
            "To: /content/YOLOv9-DeepSORT-Object-Tracking/deep_sort_pytorch.zip\n",
            "100% 43.1M/43.1M [00:00<00:00, 115MB/s]\n"
          ]
        }
      ]
    },
    {
      "cell_type": "code",
      "source": [
        "!unzip /content/YOLOv9-DeepSORT-Object-Tracking/deep_sort_pytorch.zip"
      ],
      "metadata": {
        "colab": {
          "base_uri": "https://localhost:8080/"
        },
        "id": "3LM8OEkZlqZP",
        "outputId": "99cab40d-744e-4a73-dc39-133237ebed4c"
      },
      "execution_count": null,
      "outputs": [
        {
          "output_type": "stream",
          "name": "stdout",
          "text": [
            "Archive:  /content/YOLOv9-DeepSORT-Object-Tracking/deep_sort_pytorch.zip\n",
            "replace deep_sort_pytorch/.gitignore? [y]es, [n]o, [A]ll, [N]one, [r]ename: y\n",
            "  inflating: deep_sort_pytorch/.gitignore  \n",
            "replace deep_sort_pytorch/configs/deep_sort.yaml? [y]es, [n]o, [A]ll, [N]one, [r]ename: y\n",
            "  inflating: deep_sort_pytorch/configs/deep_sort.yaml  \n",
            "replace deep_sort_pytorch/deep_sort/__init__.py? [y]es, [n]o, [A]ll, [N]one, [r]ename: y\n",
            "  inflating: deep_sort_pytorch/deep_sort/__init__.py  \n",
            "replace deep_sort_pytorch/deep_sort/__pycache__/__init__.cpython-310.pyc? [y]es, [n]o, [A]ll, [N]one, [r]ename: y\n",
            "  inflating: deep_sort_pytorch/deep_sort/__pycache__/__init__.cpython-310.pyc  \n",
            "replace deep_sort_pytorch/deep_sort/__pycache__/__init__.cpython-37.pyc? [y]es, [n]o, [A]ll, [N]one, [r]ename: y\n",
            "  inflating: deep_sort_pytorch/deep_sort/__pycache__/__init__.cpython-37.pyc  \n",
            "replace deep_sort_pytorch/deep_sort/__pycache__/__init__.cpython-38.pyc? [y]es, [n]o, [A]ll, [N]one, [r]ename: y\n",
            "  inflating: deep_sort_pytorch/deep_sort/__pycache__/__init__.cpython-38.pyc  \n",
            "replace deep_sort_pytorch/deep_sort/__pycache__/deep_sort.cpython-310.pyc? [y]es, [n]o, [A]ll, [N]one, [r]ename: y\n",
            "  inflating: deep_sort_pytorch/deep_sort/__pycache__/deep_sort.cpython-310.pyc  \n",
            "replace deep_sort_pytorch/deep_sort/__pycache__/deep_sort.cpython-37.pyc? [y]es, [n]o, [A]ll, [N]one, [r]ename: y\n",
            "  inflating: deep_sort_pytorch/deep_sort/__pycache__/deep_sort.cpython-37.pyc  \n",
            "replace deep_sort_pytorch/deep_sort/__pycache__/deep_sort.cpython-38.pyc? [y]es, [n]o, [A]ll, [N]one, [r]ename: y\n",
            "  inflating: deep_sort_pytorch/deep_sort/__pycache__/deep_sort.cpython-38.pyc  \n",
            "replace deep_sort_pytorch/deep_sort/deep/__init__.py? [y]es, [n]o, [A]ll, [N]one, [r]ename: y\n",
            " extracting: deep_sort_pytorch/deep_sort/deep/__init__.py  \n",
            "replace deep_sort_pytorch/deep_sort/deep/__pycache__/__init__.cpython-310.pyc? [y]es, [n]o, [A]ll, [N]one, [r]ename: y\n",
            "  inflating: deep_sort_pytorch/deep_sort/deep/__pycache__/__init__.cpython-310.pyc  \n",
            "replace deep_sort_pytorch/deep_sort/deep/__pycache__/__init__.cpython-37.pyc? [y]es, [n]o, [A]ll, [N]one, [r]ename: y\n",
            "  inflating: deep_sort_pytorch/deep_sort/deep/__pycache__/__init__.cpython-37.pyc  \n",
            "replace deep_sort_pytorch/deep_sort/deep/__pycache__/__init__.cpython-38.pyc? [y]es, [n]o, [A]ll, [N]one, [r]ename: y\n",
            "  inflating: deep_sort_pytorch/deep_sort/deep/__pycache__/__init__.cpython-38.pyc  \n",
            "replace deep_sort_pytorch/deep_sort/deep/__pycache__/feature_extractor.cpython-310.pyc? [y]es, [n]o, [A]ll, [N]one, [r]ename: y\n",
            "  inflating: deep_sort_pytorch/deep_sort/deep/__pycache__/feature_extractor.cpython-310.pyc  \n",
            "replace deep_sort_pytorch/deep_sort/deep/__pycache__/feature_extractor.cpython-37.pyc? [y]es, [n]o, [A]ll, [N]one, [r]ename: y\n",
            "  inflating: deep_sort_pytorch/deep_sort/deep/__pycache__/feature_extractor.cpython-37.pyc  \n",
            "replace deep_sort_pytorch/deep_sort/deep/__pycache__/feature_extractor.cpython-38.pyc? [y]es, [n]o, [A]ll, [N]one, [r]ename: y\n",
            "  inflating: deep_sort_pytorch/deep_sort/deep/__pycache__/feature_extractor.cpython-38.pyc  \n",
            "replace deep_sort_pytorch/deep_sort/deep/__pycache__/model.cpython-310.pyc? [y]es, [n]o, [A]ll, [N]one, [r]ename: y\n",
            "y\n",
            "  inflating: deep_sort_pytorch/deep_sort/deep/__pycache__/model.cpython-310.pyc  \n",
            "replace deep_sort_pytorch/deep_sort/deep/__pycache__/model.cpython-37.pyc? [y]es, [n]o, [A]ll, [N]one, [r]ename:   inflating: deep_sort_pytorch/deep_sort/deep/__pycache__/model.cpython-37.pyc  \n",
            "replace deep_sort_pytorch/deep_sort/deep/__pycache__/model.cpython-38.pyc? [y]es, [n]o, [A]ll, [N]one, [r]ename: y\n",
            "  inflating: deep_sort_pytorch/deep_sort/deep/__pycache__/model.cpython-38.pyc  \n",
            "replace deep_sort_pytorch/deep_sort/deep/checkpoint/.gitkeep? [y]es, [n]o, [A]ll, [N]one, [r]ename: y\n",
            " extracting: deep_sort_pytorch/deep_sort/deep/checkpoint/.gitkeep  \n",
            "replace deep_sort_pytorch/deep_sort/deep/checkpoint/ckpt.t7? [y]es, [n]o, [A]ll, [N]one, [r]ename: y\n",
            "  inflating: deep_sort_pytorch/deep_sort/deep/checkpoint/ckpt.t7  \n",
            "replace deep_sort_pytorch/deep_sort/deep/evaluate.py? [y]es, [n]o, [A]ll, [N]one, [r]ename: y\n",
            "  inflating: deep_sort_pytorch/deep_sort/deep/evaluate.py  \n",
            "replace deep_sort_pytorch/deep_sort/deep/feature_extractor.py? [y]es, [n]o, [A]ll, [N]one, [r]ename: y\n",
            "  inflating: deep_sort_pytorch/deep_sort/deep/feature_extractor.py  y\n",
            "\n",
            "replace deep_sort_pytorch/deep_sort/deep/model.py? [y]es, [n]o, [A]ll, [N]one, [r]ename: y\n",
            "  inflating: deep_sort_pytorch/deep_sort/deep/model.py  \n",
            "replace deep_sort_pytorch/deep_sort/deep/original_model.py? [y]es, [n]o, [A]ll, [N]one, [r]ename:   inflating: deep_sort_pytorch/deep_sort/deep/original_model.py  \n",
            "replace deep_sort_pytorch/deep_sort/deep/test.py? [y]es, [n]o, [A]ll, [N]one, [r]ename: y\n",
            "  inflating: deep_sort_pytorch/deep_sort/deep/test.py  \n",
            "replace deep_sort_pytorch/deep_sort/deep/train.jpg? [y]es, [n]o, [A]ll, [N]one, [r]ename: y\n",
            "  inflating: deep_sort_pytorch/deep_sort/deep/train.jpg  \n",
            "replace deep_sort_pytorch/deep_sort/deep/train.py? [y]es, [n]o, [A]ll, [N]one, [r]ename: y\n",
            "  inflating: deep_sort_pytorch/deep_sort/deep/train.py  \n",
            "replace deep_sort_pytorch/deep_sort/deep_sort.py? [y]es, [n]o, [A]ll, [N]one, [r]ename: y\n",
            "  inflating: deep_sort_pytorch/deep_sort/deep_sort.py  \n",
            "replace deep_sort_pytorch/deep_sort/README.md? [y]es, [n]o, [A]ll, [N]one, [r]ename: y\n",
            "  inflating: deep_sort_pytorch/deep_sort/README.md  \n",
            "replace deep_sort_pytorch/deep_sort/sort - Copy/__init__.py? [y]es, [n]o, [A]ll, [N]one, [r]ename: y\n",
            " extracting: deep_sort_pytorch/deep_sort/sort - Copy/__init__.py  \n",
            "replace deep_sort_pytorch/deep_sort/sort - Copy/__pycache__/__init__.cpython-37.pyc? [y]es, [n]o, [A]ll, [N]one, [r]ename: y\n",
            "  inflating: deep_sort_pytorch/deep_sort/sort - Copy/__pycache__/__init__.cpython-37.pyc  \n",
            "replace deep_sort_pytorch/deep_sort/sort - Copy/__pycache__/__init__.cpython-38.pyc? [y]es, [n]o, [A]ll, [N]one, [r]ename: y\n",
            "y\n",
            "  inflating: deep_sort_pytorch/deep_sort/sort - Copy/__pycache__/__init__.cpython-38.pyc  \n",
            "replace deep_sort_pytorch/deep_sort/sort - Copy/__pycache__/detection.cpython-37.pyc? [y]es, [n]o, [A]ll, [N]one, [r]ename:   inflating: deep_sort_pytorch/deep_sort/sort - Copy/__pycache__/detection.cpython-37.pyc  \n",
            "replace deep_sort_pytorch/deep_sort/sort - Copy/__pycache__/detection.cpython-38.pyc? [y]es, [n]o, [A]ll, [N]one, [r]ename: y\n",
            "  inflating: deep_sort_pytorch/deep_sort/sort - Copy/__pycache__/detection.cpython-38.pyc  \n",
            "replace deep_sort_pytorch/deep_sort/sort - Copy/__pycache__/iou_matching.cpython-37.pyc? [y]es, [n]o, [A]ll, [N]one, [r]ename: y\n",
            "  inflating: deep_sort_pytorch/deep_sort/sort - Copy/__pycache__/iou_matching.cpython-37.pyc  \n",
            "replace deep_sort_pytorch/deep_sort/sort - Copy/__pycache__/iou_matching.cpython-38.pyc? [y]es, [n]o, [A]ll, [N]one, [r]ename: y\n",
            "  inflating: deep_sort_pytorch/deep_sort/sort - Copy/__pycache__/iou_matching.cpython-38.pyc  \n",
            "replace deep_sort_pytorch/deep_sort/sort - Copy/__pycache__/kalman_filter.cpython-37.pyc? [y]es, [n]o, [A]ll, [N]one, [r]ename: y\n",
            "  inflating: deep_sort_pytorch/deep_sort/sort - Copy/__pycache__/kalman_filter.cpython-37.pyc  \n",
            "replace deep_sort_pytorch/deep_sort/sort - Copy/__pycache__/kalman_filter.cpython-38.pyc? [y]es, [n]o, [A]ll, [N]one, [r]ename: y\n",
            "  inflating: deep_sort_pytorch/deep_sort/sort - Copy/__pycache__/kalman_filter.cpython-38.pyc  \n",
            "replace deep_sort_pytorch/deep_sort/sort - Copy/__pycache__/linear_assignment.cpython-37.pyc? [y]es, [n]o, [A]ll, [N]one, [r]ename: y\n",
            "  inflating: deep_sort_pytorch/deep_sort/sort - Copy/__pycache__/linear_assignment.cpython-37.pyc  \n",
            "replace deep_sort_pytorch/deep_sort/sort - Copy/__pycache__/linear_assignment.cpython-38.pyc? [y]es, [n]o, [A]ll, [N]one, [r]ename: y\n",
            "  inflating: deep_sort_pytorch/deep_sort/sort - Copy/__pycache__/linear_assignment.cpython-38.pyc  \n",
            "replace deep_sort_pytorch/deep_sort/sort - Copy/__pycache__/nn_matching.cpython-37.pyc? [y]es, [n]o, [A]ll, [N]one, [r]ename: y\n",
            "  inflating: deep_sort_pytorch/deep_sort/sort - Copy/__pycache__/nn_matching.cpython-37.pyc  \n",
            "replace deep_sort_pytorch/deep_sort/sort - Copy/__pycache__/nn_matching.cpython-38.pyc? [y]es, [n]o, [A]ll, [N]one, [r]ename: y\n",
            "  inflating: deep_sort_pytorch/deep_sort/sort - Copy/__pycache__/nn_matching.cpython-38.pyc  \n",
            "replace deep_sort_pytorch/deep_sort/sort - Copy/__pycache__/track.cpython-37.pyc? [y]es, [n]o, [A]ll, [N]one, [r]ename: y\n",
            "  inflating: deep_sort_pytorch/deep_sort/sort - Copy/__pycache__/track.cpython-37.pyc  \n",
            "replace deep_sort_pytorch/deep_sort/sort - Copy/__pycache__/track.cpython-38.pyc? [y]es, [n]o, [A]ll, [N]one, [r]ename: y\n",
            "  inflating: deep_sort_pytorch/deep_sort/sort - Copy/__pycache__/track.cpython-38.pyc  \n",
            "replace deep_sort_pytorch/deep_sort/sort - Copy/__pycache__/tracker.cpython-37.pyc? [y]es, [n]o, [A]ll, [N]one, [r]ename: y\n",
            "  inflating: deep_sort_pytorch/deep_sort/sort - Copy/__pycache__/tracker.cpython-37.pyc  \n",
            "replace deep_sort_pytorch/deep_sort/sort - Copy/__pycache__/tracker.cpython-38.pyc? [y]es, [n]o, [A]ll, [N]one, [r]ename: y\n",
            "y\n",
            "  inflating: deep_sort_pytorch/deep_sort/sort - Copy/__pycache__/tracker.cpython-38.pyc  \n",
            "replace deep_sort_pytorch/deep_sort/sort - Copy/iou_matching.py? [y]es, [n]o, [A]ll, [N]one, [r]ename:   inflating: deep_sort_pytorch/deep_sort/sort - Copy/iou_matching.py  \n",
            "replace deep_sort_pytorch/deep_sort/sort - Copy/kalman_filter.py? [y]es, [n]o, [A]ll, [N]one, [r]ename: y\n",
            "  inflating: deep_sort_pytorch/deep_sort/sort - Copy/kalman_filter.py  y\n",
            "\n",
            "replace deep_sort_pytorch/deep_sort/sort - Copy/linear_assignment.py? [y]es, [n]o, [A]ll, [N]one, [r]ename: y\n",
            "  inflating: deep_sort_pytorch/deep_sort/sort - Copy/linear_assignment.py  \n",
            "replace deep_sort_pytorch/deep_sort/sort - Copy/nn_matching.py? [y]es, [n]o, [A]ll, [N]one, [r]ename:   inflating: deep_sort_pytorch/deep_sort/sort - Copy/nn_matching.py  \n",
            "replace deep_sort_pytorch/deep_sort/sort - Copy/preprocessing.py? [y]es, [n]o, [A]ll, [N]one, [r]ename: y\n",
            "  inflating: deep_sort_pytorch/deep_sort/sort - Copy/preprocessing.py  \n",
            "replace deep_sort_pytorch/deep_sort/sort/__init__.py? [y]es, [n]o, [A]ll, [N]one, [r]ename: y\n",
            " extracting: deep_sort_pytorch/deep_sort/sort/__init__.py  \n",
            "y\n",
            "replace deep_sort_pytorch/deep_sort/sort/__pycache__/__init__.cpython-310.pyc? [y]es, [n]o, [A]ll, [N]one, [r]ename:   inflating: deep_sort_pytorch/deep_sort/sort/__pycache__/__init__.cpython-310.pyc  \n",
            "replace deep_sort_pytorch/deep_sort/sort/__pycache__/__init__.cpython-37.pyc? [y]es, [n]o, [A]ll, [N]one, [r]ename: y\n",
            "  inflating: deep_sort_pytorch/deep_sort/sort/__pycache__/__init__.cpython-37.pyc  \n",
            "replace deep_sort_pytorch/deep_sort/sort/__pycache__/__init__.cpython-38.pyc? [y]es, [n]o, [A]ll, [N]one, [r]ename: y\n",
            "y\n",
            "  inflating: deep_sort_pytorch/deep_sort/sort/__pycache__/__init__.cpython-38.pyc  \n",
            "replace deep_sort_pytorch/deep_sort/sort/__pycache__/detection.cpython-310.pyc? [y]es, [n]o, [A]ll, [N]one, [r]ename:   inflating: deep_sort_pytorch/deep_sort/sort/__pycache__/detection.cpython-310.pyc  \n",
            "replace deep_sort_pytorch/deep_sort/sort/__pycache__/detection.cpython-37.pyc? [y]es, [n]o, [A]ll, [N]one, [r]ename: y\n",
            "  inflating: deep_sort_pytorch/deep_sort/sort/__pycache__/detection.cpython-37.pyc  \n",
            "replace deep_sort_pytorch/deep_sort/sort/__pycache__/detection.cpython-38.pyc? [y]es, [n]o, [A]ll, [N]one, [r]ename: y\n",
            "  inflating: deep_sort_pytorch/deep_sort/sort/__pycache__/detection.cpython-38.pyc  \n",
            "replace deep_sort_pytorch/deep_sort/sort/__pycache__/iou_matching.cpython-310.pyc? [y]es, [n]o, [A]ll, [N]one, [r]ename: y\n",
            "  inflating: deep_sort_pytorch/deep_sort/sort/__pycache__/iou_matching.cpython-310.pyc  \n",
            "replace deep_sort_pytorch/deep_sort/sort/__pycache__/iou_matching.cpython-37.pyc? [y]es, [n]o, [A]ll, [N]one, [r]ename: y\n",
            "  inflating: deep_sort_pytorch/deep_sort/sort/__pycache__/iou_matching.cpython-37.pyc  \n",
            "replace deep_sort_pytorch/deep_sort/sort/__pycache__/iou_matching.cpython-38.pyc? [y]es, [n]o, [A]ll, [N]one, [r]ename: y\n",
            "  inflating: deep_sort_pytorch/deep_sort/sort/__pycache__/iou_matching.cpython-38.pyc  \n",
            "replace deep_sort_pytorch/deep_sort/sort/__pycache__/kalman_filter.cpython-310.pyc? [y]es, [n]o, [A]ll, [N]one, [r]ename: y\n",
            "  inflating: deep_sort_pytorch/deep_sort/sort/__pycache__/kalman_filter.cpython-310.pyc  y\n",
            "\n",
            "replace deep_sort_pytorch/deep_sort/sort/__pycache__/kalman_filter.cpython-37.pyc? [y]es, [n]o, [A]ll, [N]one, [r]ename:   inflating: deep_sort_pytorch/deep_sort/sort/__pycache__/kalman_filter.cpython-37.pyc  \n",
            "replace deep_sort_pytorch/deep_sort/sort/__pycache__/kalman_filter.cpython-38.pyc? [y]es, [n]o, [A]ll, [N]one, [r]ename: y\n",
            "y\n",
            "  inflating: deep_sort_pytorch/deep_sort/sort/__pycache__/kalman_filter.cpython-38.pyc  \n",
            "replace deep_sort_pytorch/deep_sort/sort/__pycache__/linear_assignment.cpython-310.pyc? [y]es, [n]o, [A]ll, [N]one, [r]ename:   inflating: deep_sort_pytorch/deep_sort/sort/__pycache__/linear_assignment.cpython-310.pyc  \n",
            "replace deep_sort_pytorch/deep_sort/sort/__pycache__/linear_assignment.cpython-37.pyc? [y]es, [n]o, [A]ll, [N]one, [r]ename: y\n",
            "  inflating: deep_sort_pytorch/deep_sort/sort/__pycache__/linear_assignment.cpython-37.pyc  \n",
            "replace deep_sort_pytorch/deep_sort/sort/__pycache__/linear_assignment.cpython-38.pyc? [y]es, [n]o, [A]ll, [N]one, [r]ename: y\n",
            "  inflating: deep_sort_pytorch/deep_sort/sort/__pycache__/linear_assignment.cpython-38.pyc  \n",
            "replace deep_sort_pytorch/deep_sort/sort/__pycache__/nn_matching.cpython-310.pyc? [y]es, [n]o, [A]ll, [N]one, [r]ename: y\n",
            "  inflating: deep_sort_pytorch/deep_sort/sort/__pycache__/nn_matching.cpython-310.pyc  \n",
            "replace deep_sort_pytorch/deep_sort/sort/__pycache__/nn_matching.cpython-37.pyc? [y]es, [n]o, [A]ll, [N]one, [r]ename: y\n",
            "  inflating: deep_sort_pytorch/deep_sort/sort/__pycache__/nn_matching.cpython-37.pyc  \n",
            "replace deep_sort_pytorch/deep_sort/sort/__pycache__/nn_matching.cpython-38.pyc? [y]es, [n]o, [A]ll, [N]one, [r]ename: y\n",
            "  inflating: deep_sort_pytorch/deep_sort/sort/__pycache__/nn_matching.cpython-38.pyc  \n",
            "replace deep_sort_pytorch/deep_sort/sort/__pycache__/track.cpython-310.pyc? [y]es, [n]o, [A]ll, [N]one, [r]ename: y\n",
            "  inflating: deep_sort_pytorch/deep_sort/sort/__pycache__/track.cpython-310.pyc  \n",
            "replace deep_sort_pytorch/deep_sort/sort/__pycache__/track.cpython-37.pyc? [y]es, [n]o, [A]ll, [N]one, [r]ename: y\n",
            "  inflating: deep_sort_pytorch/deep_sort/sort/__pycache__/track.cpython-37.pyc  \n",
            "replace deep_sort_pytorch/deep_sort/sort/__pycache__/track.cpython-38.pyc? [y]es, [n]o, [A]ll, [N]one, [r]ename: y\n",
            "  inflating: deep_sort_pytorch/deep_sort/sort/__pycache__/track.cpython-38.pyc  \n",
            "replace deep_sort_pytorch/deep_sort/sort/__pycache__/tracker.cpython-310.pyc? [y]es, [n]o, [A]ll, [N]one, [r]ename: y\n",
            "  inflating: deep_sort_pytorch/deep_sort/sort/__pycache__/tracker.cpython-310.pyc  \n",
            "replace deep_sort_pytorch/deep_sort/sort/__pycache__/tracker.cpython-37.pyc? [y]es, [n]o, [A]ll, [N]one, [r]ename: y\n",
            "  inflating: deep_sort_pytorch/deep_sort/sort/__pycache__/tracker.cpython-37.pyc  \n",
            "replace deep_sort_pytorch/deep_sort/sort/__pycache__/tracker.cpython-38.pyc? [y]es, [n]o, [A]ll, [N]one, [r]ename: y\n",
            "  inflating: deep_sort_pytorch/deep_sort/sort/__pycache__/tracker.cpython-38.pyc  y\n",
            "\n",
            "replace deep_sort_pytorch/deep_sort/sort/detection.py? [y]es, [n]o, [A]ll, [N]one, [r]ename:   inflating: deep_sort_pytorch/deep_sort/sort/detection.py  \n",
            "replace deep_sort_pytorch/deep_sort/sort/iou_matching.py? [y]es, [n]o, [A]ll, [N]one, [r]ename: y\n",
            "  inflating: deep_sort_pytorch/deep_sort/sort/iou_matching.py  y\n",
            "\n",
            "replace deep_sort_pytorch/deep_sort/sort/kalman_filter.py? [y]es, [n]o, [A]ll, [N]one, [r]ename:   inflating: deep_sort_pytorch/deep_sort/sort/kalman_filter.py  \n",
            "replace deep_sort_pytorch/deep_sort/sort/linear_assignment.py? [y]es, [n]o, [A]ll, [N]one, [r]ename: y\n",
            "y\n",
            "  inflating: deep_sort_pytorch/deep_sort/sort/linear_assignment.py  \n",
            "replace deep_sort_pytorch/deep_sort/sort/nn_matching.py? [y]es, [n]o, [A]ll, [N]one, [r]ename:   inflating: deep_sort_pytorch/deep_sort/sort/nn_matching.py  \n",
            "replace deep_sort_pytorch/deep_sort/sort/preprocessing.py? [y]es, [n]o, [A]ll, [N]one, [r]ename: y\n",
            "  inflating: deep_sort_pytorch/deep_sort/sort/preprocessing.py  \n",
            "replace deep_sort_pytorch/deep_sort/sort/track.py? [y]es, [n]o, [A]ll, [N]one, [r]ename: y\n",
            "  inflating: deep_sort_pytorch/deep_sort/sort/track.py  \n",
            "replace deep_sort_pytorch/deep_sort/sort/tracker.py? [y]es, [n]o, [A]ll, [N]one, [r]ename: y\n",
            "  inflating: deep_sort_pytorch/deep_sort/sort/tracker.py  \n",
            "replace deep_sort_pytorch/LICENSE? [y]es, [n]o, [A]ll, [N]one, [r]ename: y\n",
            "y\n",
            "  inflating: deep_sort_pytorch/LICENSE  \n",
            "replace deep_sort_pytorch/README.md? [y]es, [n]o, [A]ll, [N]one, [r]ename:   inflating: deep_sort_pytorch/README.md  \n",
            "replace deep_sort_pytorch/utils/__init__.py? [y]es, [n]o, [A]ll, [N]one, [r]ename: y\n",
            "y\n",
            " extracting: deep_sort_pytorch/utils/__init__.py  \n",
            "replace deep_sort_pytorch/utils/__pycache__/__init__.cpython-310.pyc? [y]es, [n]o, [A]ll, [N]one, [r]ename:   inflating: deep_sort_pytorch/utils/__pycache__/__init__.cpython-310.pyc  \n",
            "replace deep_sort_pytorch/utils/__pycache__/__init__.cpython-37.pyc? [y]es, [n]o, [A]ll, [N]one, [r]ename: y\n",
            "  inflating: deep_sort_pytorch/utils/__pycache__/__init__.cpython-37.pyc  \n",
            "replace deep_sort_pytorch/utils/__pycache__/__init__.cpython-38.pyc? [y]es, [n]o, [A]ll, [N]one, [r]ename: \n",
            "error:  invalid response [{ENTER}]\n",
            "replace deep_sort_pytorch/utils/__pycache__/__init__.cpython-38.pyc? [y]es, [n]o, [A]ll, [N]one, [r]ename: y\n",
            "  inflating: deep_sort_pytorch/utils/__pycache__/__init__.cpython-38.pyc  \n",
            "replace deep_sort_pytorch/utils/__pycache__/parser.cpython-310.pyc? [y]es, [n]o, [A]ll, [N]one, [r]ename: y\n",
            "  inflating: deep_sort_pytorch/utils/__pycache__/parser.cpython-310.pyc  \n",
            "replace deep_sort_pytorch/utils/__pycache__/parser.cpython-37.pyc? [y]es, [n]o, [A]ll, [N]one, [r]ename: y\n",
            "  inflating: deep_sort_pytorch/utils/__pycache__/parser.cpython-37.pyc  \n",
            "replace deep_sort_pytorch/utils/__pycache__/parser.cpython-38.pyc? [y]es, [n]o, [A]ll, [N]one, [r]ename: y\n",
            "  inflating: deep_sort_pytorch/utils/__pycache__/parser.cpython-38.pyc  \n",
            "replace deep_sort_pytorch/utils/asserts.py? [y]es, [n]o, [A]ll, [N]one, [r]ename: y\n",
            "  inflating: deep_sort_pytorch/utils/asserts.py  \n",
            "replace deep_sort_pytorch/utils/draw.py? [y]es, [n]o, [A]ll, [N]one, [r]ename: y\n",
            "  inflating: deep_sort_pytorch/utils/draw.py  \n",
            "replace deep_sort_pytorch/utils/evaluation.py? [y]es, [n]o, [A]ll, [N]one, [r]ename: y\n",
            "  inflating: deep_sort_pytorch/utils/evaluation.py  \n",
            "replace deep_sort_pytorch/utils/io.py? [y]es, [n]o, [A]ll, [N]one, [r]ename: y\n",
            "  inflating: deep_sort_pytorch/utils/io.py  \n",
            "replace deep_sort_pytorch/utils/json_logger.py? [y]es, [n]o, [A]ll, [N]one, [r]ename: y\n",
            "  inflating: deep_sort_pytorch/utils/json_logger.py  \n",
            "replace deep_sort_pytorch/utils/log.py? [y]es, [n]o, [A]ll, [N]one, [r]ename: y\n",
            "  inflating: deep_sort_pytorch/utils/log.py  \n",
            "replace deep_sort_pytorch/utils/parser.py? [y]es, [n]o, [A]ll, [N]one, [r]ename: y\n",
            "  inflating: deep_sort_pytorch/utils/parser.py  \n",
            "replace deep_sort_pytorch/utils/tools.py? [y]es, [n]o, [A]ll, [N]one, [r]ename: y\n",
            "  inflating: deep_sort_pytorch/utils/tools.py  \n",
            "y\n"
          ]
        }
      ]
    },
    {
      "cell_type": "code",
      "source": [
        "from google.colab import drive\n",
        "drive.mount('/content/drive')"
      ],
      "metadata": {
        "colab": {
          "base_uri": "https://localhost:8080/"
        },
        "id": "484acK6hm5QD",
        "outputId": "bd65bda4-12b9-420c-f6c2-77e8297cab51"
      },
      "execution_count": null,
      "outputs": [
        {
          "output_type": "stream",
          "name": "stdout",
          "text": [
            "Drive already mounted at /content/drive; to attempt to forcibly remount, call drive.mount(\"/content/drive\", force_remount=True).\n"
          ]
        }
      ]
    },
    {
      "cell_type": "code",
      "source": [
        "!python detect_dual_tracking.py --weights '/content/drive/MyDrive/BTP/yolov9-c.pt' --source '/content/drive/MyDrive/BTP/VID_20170526_110023984.mp4' --device cpu"
      ],
      "metadata": {
        "colab": {
          "base_uri": "https://localhost:8080/"
        },
        "id": "npmGoWxulqbh",
        "outputId": "69ce0bf5-b648-4132-f90d-6658f0ce8cfc"
      },
      "execution_count": null,
      "outputs": [
        {
          "output_type": "stream",
          "name": "stdout",
          "text": [
            "\u001b[34m\u001b[1mweights=['/content/drive/MyDrive/BTP/yolov9-c.pt'], source=/content/drive/MyDrive/BTP/VID_20170526_110023984.mp4, data=data/coco128.yaml, imgsz=[640], conf_thres=0.25, iou_thres=0.45, max_det=1000, device=cpu, view_img=False, nosave=False, draw_trails=False, classes=None, agnostic_nms=False, augment=False, visualize=False, update=False, project=runs/detect, name=exp, exist_ok=False, half=False, dnn=False, vid_stride=1\u001b[0m\n",
            "YOLO 🚀 83fbbcc Python-3.10.12 torch-2.3.0+cu121 CPU\n",
            "\n",
            "Fusing layers... \n",
            "Model summary: 604 layers, 50880768 parameters, 0 gradients, 237.6 GFLOPs\n",
            "Traceback (most recent call last):\n",
            "  File \"/content/YOLOv9-DeepSORT-Object-Tracking/detect_dual_tracking.py\", line 316, in <module>\n",
            "    main()\n",
            "  File \"/content/YOLOv9-DeepSORT-Object-Tracking/detect_dual_tracking.py\", line 313, in main\n",
            "    run(**vars(opt))\n",
            "  File \"/usr/local/lib/python3.10/dist-packages/torch/utils/_contextlib.py\", line 115, in decorate_context\n",
            "    return func(*args, **kwargs)\n",
            "  File \"/content/YOLOv9-DeepSORT-Object-Tracking/detect_dual_tracking.py\", line 180, in run\n",
            "    for path, im, im0s, vid_cap, s in dataset:\n",
            "  File \"/content/YOLOv9-DeepSORT-Object-Tracking/utils/dataloaders.py\", line 310, in __next__\n",
            "    im = letterbox(im0, self.img_size, stride=self.stride, auto=self.auto)[0]  # padded resize\n",
            "  File \"/content/YOLOv9-DeepSORT-Object-Tracking/utils/augmentations.py\", line 118, in letterbox\n",
            "    r = min(new_shape[0] / shape[0], new_shape[1] / shape[1])\n",
            "IndexError: list index out of range\n"
          ]
        }
      ]
    },
    {
      "cell_type": "code",
      "source": [],
      "metadata": {
        "id": "4gKQ3QXnlqd7"
      },
      "execution_count": null,
      "outputs": []
    },
    {
      "cell_type": "code",
      "source": [],
      "metadata": {
        "id": "7WH7muWUlqgB"
      },
      "execution_count": null,
      "outputs": []
    },
    {
      "cell_type": "code",
      "source": [],
      "metadata": {
        "id": "bTC5jHyylqim"
      },
      "execution_count": null,
      "outputs": []
    }
  ]
}